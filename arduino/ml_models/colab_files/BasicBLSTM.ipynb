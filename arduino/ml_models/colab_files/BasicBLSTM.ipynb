{
  "cells": [
    {
      "cell_type": "markdown",
      "metadata": {
        "id": "d9Scj9yt0TbT"
      },
      "source": [
        "# Connect to Google Drive"
      ]
    },
    {
      "cell_type": "markdown",
      "metadata": {
        "id": "d8dG426WnCLX"
      },
      "source": [
        "reference: https://kgptalkie.com/human-activity-recognition-using-accelerometer-data/\n",
        "\n",
        "Archived: https://web.archive.org/web/20210118012346/https://kgptalkie.com/human-activity-recognition-using-accelerometer-data/"
      ]
    },
    {
      "cell_type": "code",
      "execution_count": null,
      "metadata": {
        "colab": {
          "base_uri": "https://localhost:8080/"
        },
        "id": "NcCBLl-n3Q2z",
        "outputId": "57b49763-4637-47a4-cce4-84243278a57d"
      },
      "outputs": [
        {
          "name": "stdout",
          "output_type": "stream",
          "text": [
            "Mounted at /content/drive\n"
          ]
        }
      ],
      "source": [
        "from google.colab import drive\n",
        "drive.mount('/content/drive', force_remount=True)"
      ]
    },
    {
      "cell_type": "markdown",
      "metadata": {
        "id": "gDt_5CgSL6On"
      },
      "source": [
        "# Imports"
      ]
    },
    {
      "cell_type": "code",
      "execution_count": null,
      "metadata": {
        "colab": {
          "base_uri": "https://localhost:8080/"
        },
        "id": "0ORU9P82lm_1",
        "outputId": "82d9d818-d558-4a6f-a20f-c51d9ccd62ad"
      },
      "outputs": [
        {
          "name": "stdout",
          "output_type": "stream",
          "text": [
            "Looking in indexes: https://pypi.org/simple, https://us-python.pkg.dev/colab-wheels/public/simple/\n",
            "Collecting mlxtend==0.16.0\n",
            "  Downloading mlxtend-0.16.0-py2.py3-none-any.whl (1.3 MB)\n",
            "\u001b[2K     \u001b[90m━━━━━━━━━━━━━━━━━━━━━━━━━━━━━━━━━━━━━━━━\u001b[0m \u001b[32m1.3/1.3 MB\u001b[0m \u001b[31m19.0 MB/s\u001b[0m eta \u001b[36m0:00:00\u001b[0m\n",
            "\u001b[?25hRequirement already satisfied: pandas>=0.17.1 in /usr/local/lib/python3.8/dist-packages (from mlxtend==0.16.0) (1.3.5)\n",
            "Requirement already satisfied: scikit-learn>=0.18 in /usr/local/lib/python3.8/dist-packages (from mlxtend==0.16.0) (1.0.2)\n",
            "Requirement already satisfied: numpy>=1.10.4 in /usr/local/lib/python3.8/dist-packages (from mlxtend==0.16.0) (1.21.6)\n",
            "Requirement already satisfied: setuptools in /usr/local/lib/python3.8/dist-packages (from mlxtend==0.16.0) (57.4.0)\n",
            "Requirement already satisfied: matplotlib>=1.5.1 in /usr/local/lib/python3.8/dist-packages (from mlxtend==0.16.0) (3.2.2)\n",
            "Requirement already satisfied: scipy>=0.17 in /usr/local/lib/python3.8/dist-packages (from mlxtend==0.16.0) (1.7.3)\n",
            "Requirement already satisfied: python-dateutil>=2.1 in /usr/local/lib/python3.8/dist-packages (from matplotlib>=1.5.1->mlxtend==0.16.0) (2.8.2)\n",
            "Requirement already satisfied: pyparsing!=2.0.4,!=2.1.2,!=2.1.6,>=2.0.1 in /usr/local/lib/python3.8/dist-packages (from matplotlib>=1.5.1->mlxtend==0.16.0) (3.0.9)\n",
            "Requirement already satisfied: kiwisolver>=1.0.1 in /usr/local/lib/python3.8/dist-packages (from matplotlib>=1.5.1->mlxtend==0.16.0) (1.4.4)\n",
            "Requirement already satisfied: cycler>=0.10 in /usr/local/lib/python3.8/dist-packages (from matplotlib>=1.5.1->mlxtend==0.16.0) (0.11.0)\n",
            "Requirement already satisfied: pytz>=2017.3 in /usr/local/lib/python3.8/dist-packages (from pandas>=0.17.1->mlxtend==0.16.0) (2022.7)\n",
            "Requirement already satisfied: threadpoolctl>=2.0.0 in /usr/local/lib/python3.8/dist-packages (from scikit-learn>=0.18->mlxtend==0.16.0) (3.1.0)\n",
            "Requirement already satisfied: joblib>=0.11 in /usr/local/lib/python3.8/dist-packages (from scikit-learn>=0.18->mlxtend==0.16.0) (1.2.0)\n",
            "Requirement already satisfied: six>=1.5 in /usr/local/lib/python3.8/dist-packages (from python-dateutil>=2.1->matplotlib>=1.5.1->mlxtend==0.16.0) (1.15.0)\n",
            "Installing collected packages: mlxtend\n",
            "  Attempting uninstall: mlxtend\n",
            "    Found existing installation: mlxtend 0.14.0\n",
            "    Uninstalling mlxtend-0.14.0:\n",
            "      Successfully uninstalled mlxtend-0.14.0\n",
            "Successfully installed mlxtend-0.16.0\n"
          ]
        }
      ],
      "source": [
        "import tensorflow as tf\n",
        "from tensorflow.keras import Sequential\n",
        "from tensorflow.keras.layers import Flatten, Dense, Dropout, BatchNormalization, InputLayer\n",
        "from tensorflow.keras.layers import SimpleRNN, LSTM, Bidirectional\n",
        "from tensorflow.keras.optimizers import Adam\n",
        "from tensorflow.keras.callbacks import ModelCheckpoint, EarlyStopping\n",
        "import keras\n",
        "import tensorflow.keras\n",
        "from sklearn.model_selection import train_test_split\n",
        "import pandas as pd\n",
        "import numpy as np\n",
        "import glob\n",
        "import matplotlib.pyplot as plt\n",
        "import scipy.stats as stats\n",
        "!pip install mlxtend==0.16.0\n",
        "from mlxtend.plotting import plot_confusion_matrix\n",
        "from sklearn.metrics import confusion_matrix"
      ]
    },
    {
      "cell_type": "markdown",
      "metadata": {
        "id": "RLRWrnjW0JrE"
      },
      "source": [
        "# Set Variables for Experiment"
      ]
    },
    {
      "cell_type": "code",
      "execution_count": null,
      "metadata": {
        "id": "UFWvz02Bw47D"
      },
      "outputs": [],
      "source": [
        "model_name = 'basic_blstm.h5'\n",
        "classes = ['car', 'leisure', 'play', 'run_jog', 'seizure', 'sleep', 'walk']\n",
        "frame_seconds = 4\n",
        "hop_seconds = 4\n",
        "Fs = 20\n",
        "frame_size = Fs * frame_seconds \n",
        "hop_size = Fs * hop_seconds"
      ]
    },
    {
      "cell_type": "markdown",
      "metadata": {
        "id": "az8kDtbxe6Bx"
      },
      "source": [
        "# Load in Cleaned Dataset"
      ]
    },
    {
      "cell_type": "code",
      "execution_count": null,
      "metadata": {
        "colab": {
          "base_uri": "https://localhost:8080/",
          "height": 424
        },
        "id": "s2Axwtjwe5jI",
        "outputId": "c83b766a-f23f-4e47-e973-4c4af0f58b19"
      },
      "outputs": [
        {
          "data": {
            "text/html": [
              "\n",
              "  <div id=\"df-b18dabfe-d959-4371-9ae4-e1841e3bcd3a\">\n",
              "    <div class=\"colab-df-container\">\n",
              "      <div>\n",
              "<style scoped>\n",
              "    .dataframe tbody tr th:only-of-type {\n",
              "        vertical-align: middle;\n",
              "    }\n",
              "\n",
              "    .dataframe tbody tr th {\n",
              "        vertical-align: top;\n",
              "    }\n",
              "\n",
              "    .dataframe thead th {\n",
              "        text-align: right;\n",
              "    }\n",
              "</style>\n",
              "<table border=\"1\" class=\"dataframe\">\n",
              "  <thead>\n",
              "    <tr style=\"text-align: right;\">\n",
              "      <th></th>\n",
              "      <th>g_x</th>\n",
              "      <th>g_y</th>\n",
              "      <th>g_z</th>\n",
              "      <th>a_x</th>\n",
              "      <th>a_y</th>\n",
              "      <th>a_z</th>\n",
              "      <th>label</th>\n",
              "    </tr>\n",
              "  </thead>\n",
              "  <tbody>\n",
              "    <tr>\n",
              "      <th>0</th>\n",
              "      <td>1.196273</td>\n",
              "      <td>-1.081498</td>\n",
              "      <td>1.421736</td>\n",
              "      <td>-0.073822</td>\n",
              "      <td>-1.294081</td>\n",
              "      <td>0.425378</td>\n",
              "      <td>6</td>\n",
              "    </tr>\n",
              "    <tr>\n",
              "      <th>1</th>\n",
              "      <td>0.395422</td>\n",
              "      <td>-0.997478</td>\n",
              "      <td>0.547428</td>\n",
              "      <td>0.546037</td>\n",
              "      <td>-0.524955</td>\n",
              "      <td>-1.332338</td>\n",
              "      <td>6</td>\n",
              "    </tr>\n",
              "    <tr>\n",
              "      <th>2</th>\n",
              "      <td>0.377894</td>\n",
              "      <td>0.056450</td>\n",
              "      <td>0.315224</td>\n",
              "      <td>-0.603559</td>\n",
              "      <td>1.311507</td>\n",
              "      <td>-1.984427</td>\n",
              "      <td>6</td>\n",
              "    </tr>\n",
              "    <tr>\n",
              "      <th>3</th>\n",
              "      <td>1.654736</td>\n",
              "      <td>-0.048575</td>\n",
              "      <td>0.936797</td>\n",
              "      <td>-0.858995</td>\n",
              "      <td>3.198385</td>\n",
              "      <td>-1.394055</td>\n",
              "      <td>6</td>\n",
              "    </tr>\n",
              "    <tr>\n",
              "      <th>4</th>\n",
              "      <td>0.961782</td>\n",
              "      <td>-1.176546</td>\n",
              "      <td>1.225371</td>\n",
              "      <td>-0.884146</td>\n",
              "      <td>4.978352</td>\n",
              "      <td>-1.363603</td>\n",
              "      <td>6</td>\n",
              "    </tr>\n",
              "    <tr>\n",
              "      <th>...</th>\n",
              "      <td>...</td>\n",
              "      <td>...</td>\n",
              "      <td>...</td>\n",
              "      <td>...</td>\n",
              "      <td>...</td>\n",
              "      <td>...</td>\n",
              "      <td>...</td>\n",
              "    </tr>\n",
              "    <tr>\n",
              "      <th>5561637</th>\n",
              "      <td>0.042518</td>\n",
              "      <td>-1.711649</td>\n",
              "      <td>0.272666</td>\n",
              "      <td>-0.014613</td>\n",
              "      <td>-0.025448</td>\n",
              "      <td>-0.020896</td>\n",
              "      <td>4</td>\n",
              "    </tr>\n",
              "    <tr>\n",
              "      <th>5561638</th>\n",
              "      <td>0.115358</td>\n",
              "      <td>-1.928526</td>\n",
              "      <td>0.314478</td>\n",
              "      <td>-0.014613</td>\n",
              "      <td>-0.025448</td>\n",
              "      <td>-0.020896</td>\n",
              "      <td>4</td>\n",
              "    </tr>\n",
              "    <tr>\n",
              "      <th>5561639</th>\n",
              "      <td>-0.130428</td>\n",
              "      <td>-1.877064</td>\n",
              "      <td>0.311491</td>\n",
              "      <td>-0.014613</td>\n",
              "      <td>-0.025448</td>\n",
              "      <td>-0.020896</td>\n",
              "      <td>4</td>\n",
              "    </tr>\n",
              "    <tr>\n",
              "      <th>5561640</th>\n",
              "      <td>-0.023700</td>\n",
              "      <td>-1.652310</td>\n",
              "      <td>0.274533</td>\n",
              "      <td>-0.014613</td>\n",
              "      <td>-0.025448</td>\n",
              "      <td>-0.020896</td>\n",
              "      <td>4</td>\n",
              "    </tr>\n",
              "    <tr>\n",
              "      <th>5561641</th>\n",
              "      <td>0.047582</td>\n",
              "      <td>-1.767313</td>\n",
              "      <td>0.308131</td>\n",
              "      <td>-0.014613</td>\n",
              "      <td>-0.025448</td>\n",
              "      <td>-0.020896</td>\n",
              "      <td>4</td>\n",
              "    </tr>\n",
              "  </tbody>\n",
              "</table>\n",
              "<p>5561642 rows × 7 columns</p>\n",
              "</div>\n",
              "      <button class=\"colab-df-convert\" onclick=\"convertToInteractive('df-b18dabfe-d959-4371-9ae4-e1841e3bcd3a')\"\n",
              "              title=\"Convert this dataframe to an interactive table.\"\n",
              "              style=\"display:none;\">\n",
              "        \n",
              "  <svg xmlns=\"http://www.w3.org/2000/svg\" height=\"24px\"viewBox=\"0 0 24 24\"\n",
              "       width=\"24px\">\n",
              "    <path d=\"M0 0h24v24H0V0z\" fill=\"none\"/>\n",
              "    <path d=\"M18.56 5.44l.94 2.06.94-2.06 2.06-.94-2.06-.94-.94-2.06-.94 2.06-2.06.94zm-11 1L8.5 8.5l.94-2.06 2.06-.94-2.06-.94L8.5 2.5l-.94 2.06-2.06.94zm10 10l.94 2.06.94-2.06 2.06-.94-2.06-.94-.94-2.06-.94 2.06-2.06.94z\"/><path d=\"M17.41 7.96l-1.37-1.37c-.4-.4-.92-.59-1.43-.59-.52 0-1.04.2-1.43.59L10.3 9.45l-7.72 7.72c-.78.78-.78 2.05 0 2.83L4 21.41c.39.39.9.59 1.41.59.51 0 1.02-.2 1.41-.59l7.78-7.78 2.81-2.81c.8-.78.8-2.07 0-2.86zM5.41 20L4 18.59l7.72-7.72 1.47 1.35L5.41 20z\"/>\n",
              "  </svg>\n",
              "      </button>\n",
              "      \n",
              "  <style>\n",
              "    .colab-df-container {\n",
              "      display:flex;\n",
              "      flex-wrap:wrap;\n",
              "      gap: 12px;\n",
              "    }\n",
              "\n",
              "    .colab-df-convert {\n",
              "      background-color: #E8F0FE;\n",
              "      border: none;\n",
              "      border-radius: 50%;\n",
              "      cursor: pointer;\n",
              "      display: none;\n",
              "      fill: #1967D2;\n",
              "      height: 32px;\n",
              "      padding: 0 0 0 0;\n",
              "      width: 32px;\n",
              "    }\n",
              "\n",
              "    .colab-df-convert:hover {\n",
              "      background-color: #E2EBFA;\n",
              "      box-shadow: 0px 1px 2px rgba(60, 64, 67, 0.3), 0px 1px 3px 1px rgba(60, 64, 67, 0.15);\n",
              "      fill: #174EA6;\n",
              "    }\n",
              "\n",
              "    [theme=dark] .colab-df-convert {\n",
              "      background-color: #3B4455;\n",
              "      fill: #D2E3FC;\n",
              "    }\n",
              "\n",
              "    [theme=dark] .colab-df-convert:hover {\n",
              "      background-color: #434B5C;\n",
              "      box-shadow: 0px 1px 3px 1px rgba(0, 0, 0, 0.15);\n",
              "      filter: drop-shadow(0px 1px 2px rgba(0, 0, 0, 0.3));\n",
              "      fill: #FFFFFF;\n",
              "    }\n",
              "  </style>\n",
              "\n",
              "      <script>\n",
              "        const buttonEl =\n",
              "          document.querySelector('#df-b18dabfe-d959-4371-9ae4-e1841e3bcd3a button.colab-df-convert');\n",
              "        buttonEl.style.display =\n",
              "          google.colab.kernel.accessAllowed ? 'block' : 'none';\n",
              "\n",
              "        async function convertToInteractive(key) {\n",
              "          const element = document.querySelector('#df-b18dabfe-d959-4371-9ae4-e1841e3bcd3a');\n",
              "          const dataTable =\n",
              "            await google.colab.kernel.invokeFunction('convertToInteractive',\n",
              "                                                     [key], {});\n",
              "          if (!dataTable) return;\n",
              "\n",
              "          const docLinkHtml = 'Like what you see? Visit the ' +\n",
              "            '<a target=\"_blank\" href=https://colab.research.google.com/notebooks/data_table.ipynb>data table notebook</a>'\n",
              "            + ' to learn more about interactive tables.';\n",
              "          element.innerHTML = '';\n",
              "          dataTable['output_type'] = 'display_data';\n",
              "          await google.colab.output.renderOutput(dataTable, element);\n",
              "          const docLink = document.createElement('div');\n",
              "          docLink.innerHTML = docLinkHtml;\n",
              "          element.appendChild(docLink);\n",
              "        }\n",
              "      </script>\n",
              "    </div>\n",
              "  </div>\n",
              "  "
            ],
            "text/plain": [
              "              g_x       g_y       g_z       a_x       a_y       a_z  label\n",
              "0        1.196273 -1.081498  1.421736 -0.073822 -1.294081  0.425378      6\n",
              "1        0.395422 -0.997478  0.547428  0.546037 -0.524955 -1.332338      6\n",
              "2        0.377894  0.056450  0.315224 -0.603559  1.311507 -1.984427      6\n",
              "3        1.654736 -0.048575  0.936797 -0.858995  3.198385 -1.394055      6\n",
              "4        0.961782 -1.176546  1.225371 -0.884146  4.978352 -1.363603      6\n",
              "...           ...       ...       ...       ...       ...       ...    ...\n",
              "5561637  0.042518 -1.711649  0.272666 -0.014613 -0.025448 -0.020896      4\n",
              "5561638  0.115358 -1.928526  0.314478 -0.014613 -0.025448 -0.020896      4\n",
              "5561639 -0.130428 -1.877064  0.311491 -0.014613 -0.025448 -0.020896      4\n",
              "5561640 -0.023700 -1.652310  0.274533 -0.014613 -0.025448 -0.020896      4\n",
              "5561641  0.047582 -1.767313  0.308131 -0.014613 -0.025448 -0.020896      4\n",
              "\n",
              "[5561642 rows x 7 columns]"
            ]
          },
          "metadata": {},
          "output_type": "display_data"
        }
      ],
      "source": [
        "df = pd.read_csv(f'/content/drive/MyDrive/Smart Dog Collar/Data/03-31-2021_snapshot/cleaned_data.csv')\n",
        "display(df)"
      ]
    },
    {
      "cell_type": "markdown",
      "metadata": {
        "id": "qCvT_zJdoxVm"
      },
      "source": [
        "# Prepare the Data Frames\n"
      ]
    },
    {
      "cell_type": "code",
      "execution_count": null,
      "metadata": {
        "id": "vbZtQs6jo3Vl"
      },
      "outputs": [],
      "source": [
        "def get_frames(df, frame_size, hop_size):\n",
        "\n",
        "    N_FEATURES = df.iloc[:, :-1].shape[1]\n",
        "    frames, labels = [], []\n",
        "\n",
        "    for i in range(0, df.shape[0] - frame_size, hop_size):\n",
        "        x = df['a_x'].values[i: i + frame_size]\n",
        "        y = df['a_y'].values[i: i + frame_size]\n",
        "        z = df['a_z'].values[i: i + frame_size]\n",
        "\n",
        "        gx = df['g_x'].values[i: i + frame_size]\n",
        "        gy = df['g_y'].values[i: i + frame_size]\n",
        "        gz = df['g_z'].values[i: i + frame_size]\n",
        "\n",
        "        # Retrieve the most often used label in this segment\n",
        "        label = stats.mode(df['label'][i: i + frame_size])[0][0]\n",
        "        frames.append([x, y, z, gx, gy, gz])\n",
        "        labels.append(label)\n",
        "        \n",
        "    # Bring the segments into a better shape\n",
        "    frames = np.asarray(frames).reshape(-1, frame_size, N_FEATURES)\n",
        "\n",
        "    labels = np.asarray(labels)\n",
        "    return frames, labels"
      ]
    },
    {
      "cell_type": "code",
      "execution_count": null,
      "metadata": {
        "colab": {
          "base_uri": "https://localhost:8080/"
        },
        "id": "skRwehG1QkjV",
        "outputId": "ca8afcb1-80fc-4abc-ec46-19669543dd2f"
      },
      "outputs": [
        {
          "name": "stdout",
          "output_type": "stream",
          "text": [
            "X train shape (55616, 80, 6)\n",
            "y train shape (55616,)\n",
            "X test shape (13904, 80, 6)\n",
            "y test shape (13904,)\n"
          ]
        }
      ],
      "source": [
        "X, y = get_frames(df, frame_size, hop_size)\n",
        "X_train, X_test, y_train, y_test = train_test_split(X, y, test_size=0.2, \n",
        "                                                    random_state=0, \n",
        "                                                    stratify=y)\n",
        "print('X train shape', X_train.shape)    \n",
        "print('y train shape', y_train.shape)\n",
        "print('X test shape', X_test.shape)    \n",
        "print('y test shape', y_test.shape)"
      ]
    },
    {
      "cell_type": "markdown",
      "metadata": {
        "id": "KAOHUeZTpL4p"
      },
      "source": [
        "# Run Model"
      ]
    },
    {
      "cell_type": "code",
      "execution_count": null,
      "metadata": {
        "colab": {
          "base_uri": "https://localhost:8080/"
        },
        "id": "VEj__JC_pRAE",
        "outputId": "96d0e2dc-4861-47d3-b9d3-0217530c5292"
      },
      "outputs": [
        {
          "name": "stdout",
          "output_type": "stream",
          "text": [
            "Model: \"sequential\"\n",
            "_________________________________________________________________\n",
            " Layer (type)                Output Shape              Param #   \n",
            "=================================================================\n",
            " bidirectional (Bidirectiona  (None, 80, 40)           4320      \n",
            " l)                                                              \n",
            "                                                                 \n",
            " bidirectional_1 (Bidirectio  (None, 80, 40)           9760      \n",
            " nal)                                                            \n",
            "                                                                 \n",
            " bidirectional_2 (Bidirectio  (None, 80, 40)           9760      \n",
            " nal)                                                            \n",
            "                                                                 \n",
            " bidirectional_3 (Bidirectio  (None, 40)               9760      \n",
            " nal)                                                            \n",
            "                                                                 \n",
            " dense (Dense)               (None, 7)                 287       \n",
            "                                                                 \n",
            "=================================================================\n",
            "Total params: 33,887\n",
            "Trainable params: 33,887\n",
            "Non-trainable params: 0\n",
            "_________________________________________________________________\n"
          ]
        }
      ],
      "source": [
        "num_classes = len(classes)\n",
        "model = Sequential([\n",
        "    InputLayer(input_shape=X_train[0].shape),\n",
        "    Bidirectional(LSTM(20, return_sequences=True)),\n",
        "    Bidirectional(LSTM(20, return_sequences=True)),\n",
        "    Bidirectional(LSTM(20, return_sequences=True)),\n",
        "    Bidirectional(LSTM(20)),\n",
        "    Dense(num_classes, activation='softmax')\n",
        "])\n",
        "model.compile(optimizer=Adam(learning_rate=0.001), loss='sparse_categorical_crossentropy', \n",
        "              metrics=['accuracy'])\n",
        "model.summary()"
      ]
    },
    {
      "cell_type": "code",
      "execution_count": null,
      "metadata": {
        "colab": {
          "background_save": true,
          "base_uri": "https://localhost:8080/"
        },
        "id": "AoYRgi_LFzq8",
        "outputId": "ba9e350a-4bf7-4843-d2c7-c955ed0d1551"
      },
      "outputs": [
        {
          "name": "stdout",
          "output_type": "stream",
          "text": [
            "Epoch 1/100\n",
            "1565/1565 [==============================] - 334s 207ms/step - loss: 0.4259 - accuracy: 0.8577 - val_loss: 0.4076 - val_accuracy: 0.8679\n",
            "Epoch 2/100\n",
            "1565/1565 [==============================] - 326s 209ms/step - loss: 0.3743 - accuracy: 0.8735 - val_loss: 0.3495 - val_accuracy: 0.8848\n",
            "Epoch 3/100\n",
            "1565/1565 [==============================] - 323s 206ms/step - loss: 0.3403 - accuracy: 0.8811 - val_loss: 0.4334 - val_accuracy: 0.8594\n",
            "Epoch 4/100\n",
            "1565/1565 [==============================] - 324s 207ms/step - loss: 0.3167 - accuracy: 0.8894 - val_loss: 0.3119 - val_accuracy: 0.8928\n",
            "Epoch 5/100\n",
            "1565/1565 [==============================] - 328s 210ms/step - loss: 0.3051 - accuracy: 0.8930 - val_loss: 0.3358 - val_accuracy: 0.8860\n",
            "Epoch 6/100\n",
            "1565/1565 [==============================] - 322s 206ms/step - loss: 0.2850 - accuracy: 0.9004 - val_loss: 0.2909 - val_accuracy: 0.8961\n",
            "Epoch 7/100\n",
            "1565/1565 [==============================] - 327s 209ms/step - loss: 0.2736 - accuracy: 0.9033 - val_loss: 0.2690 - val_accuracy: 0.9083\n",
            "Epoch 8/100\n",
            "1565/1565 [==============================] - 320s 204ms/step - loss: 0.2664 - accuracy: 0.9057 - val_loss: 0.2745 - val_accuracy: 0.9058\n",
            "Epoch 9/100\n",
            "1565/1565 [==============================] - 322s 206ms/step - loss: 0.2583 - accuracy: 0.9076 - val_loss: 0.2587 - val_accuracy: 0.9079\n",
            "Epoch 10/100\n",
            "1565/1565 [==============================] - 320s 205ms/step - loss: 0.2454 - accuracy: 0.9111 - val_loss: 0.2703 - val_accuracy: 0.9044\n",
            "Epoch 11/100\n",
            "1565/1565 [==============================] - 319s 204ms/step - loss: 0.2384 - accuracy: 0.9148 - val_loss: 0.2624 - val_accuracy: 0.9027\n",
            "Epoch 12/100\n",
            "1565/1565 [==============================] - 328s 210ms/step - loss: 0.2368 - accuracy: 0.9146 - val_loss: 0.2429 - val_accuracy: 0.9169\n",
            "Epoch 13/100\n",
            "1565/1565 [==============================] - 328s 210ms/step - loss: 0.2263 - accuracy: 0.9179 - val_loss: 0.2364 - val_accuracy: 0.9220\n",
            "Epoch 14/100\n",
            "1565/1565 [==============================] - 320s 205ms/step - loss: 0.2196 - accuracy: 0.9212 - val_loss: 0.2382 - val_accuracy: 0.9234\n",
            "Epoch 15/100\n",
            "1565/1565 [==============================] - 324s 207ms/step - loss: 0.2112 - accuracy: 0.9239 - val_loss: 0.2526 - val_accuracy: 0.9164\n",
            "Epoch 16/100\n",
            "1565/1565 [==============================] - 320s 204ms/step - loss: 0.2088 - accuracy: 0.9266 - val_loss: 0.2299 - val_accuracy: 0.9243\n",
            "Epoch 17/100\n",
            "1565/1565 [==============================] - 323s 206ms/step - loss: 0.1988 - accuracy: 0.9297 - val_loss: 0.2269 - val_accuracy: 0.9247\n",
            "Epoch 18/100\n",
            "1565/1565 [==============================] - 324s 207ms/step - loss: 0.1928 - accuracy: 0.9313 - val_loss: 0.2200 - val_accuracy: 0.9272\n",
            "Epoch 19/100\n",
            "1565/1565 [==============================] - 311s 199ms/step - loss: 0.1912 - accuracy: 0.9316 - val_loss: 0.2213 - val_accuracy: 0.9248\n",
            "Epoch 20/100\n",
            "1565/1565 [==============================] - 310s 198ms/step - loss: 0.1885 - accuracy: 0.9327 - val_loss: 0.2242 - val_accuracy: 0.9268\n",
            "Epoch 21/100\n",
            "1565/1565 [==============================] - 313s 200ms/step - loss: 0.1794 - accuracy: 0.9360 - val_loss: 0.2246 - val_accuracy: 0.9257\n",
            "Epoch 22/100\n",
            "1565/1565 [==============================] - 304s 194ms/step - loss: 0.1763 - accuracy: 0.9373 - val_loss: 0.2339 - val_accuracy: 0.9189\n",
            "Epoch 23/100\n",
            "1565/1565 [==============================] - 304s 195ms/step - loss: 0.1733 - accuracy: 0.9374 - val_loss: 0.2145 - val_accuracy: 0.9283\n",
            "Epoch 24/100\n",
            "1565/1565 [==============================] - 303s 194ms/step - loss: 0.1663 - accuracy: 0.9399 - val_loss: 0.2187 - val_accuracy: 0.9277\n",
            "Epoch 25/100\n",
            "1565/1565 [==============================] - 330s 211ms/step - loss: 0.1676 - accuracy: 0.9394 - val_loss: 0.2037 - val_accuracy: 0.9283\n",
            "Epoch 26/100\n",
            "1565/1565 [==============================] - 325s 208ms/step - loss: 0.1643 - accuracy: 0.9408 - val_loss: 0.2081 - val_accuracy: 0.9265\n",
            "Epoch 27/100\n",
            "1565/1565 [==============================] - 326s 208ms/step - loss: 0.1594 - accuracy: 0.9428 - val_loss: 0.2052 - val_accuracy: 0.9324\n",
            "Epoch 28/100\n",
            "1565/1565 [==============================] - 332s 212ms/step - loss: 0.1669 - accuracy: 0.9394 - val_loss: 0.2079 - val_accuracy: 0.9279\n",
            "Epoch 29/100\n",
            "1565/1565 [==============================] - 332s 212ms/step - loss: 0.1529 - accuracy: 0.9451 - val_loss: 0.2123 - val_accuracy: 0.9306\n",
            "Epoch 30/100\n",
            "1565/1565 [==============================] - 321s 205ms/step - loss: 0.1518 - accuracy: 0.9452 - val_loss: 0.2218 - val_accuracy: 0.9256\n"
          ]
        }
      ],
      "source": [
        "checkpoint = ModelCheckpoint(model_name, save_best_only=True)\n",
        "early_stop = EarlyStopping(patience=5, restore_best_weights=True)\n",
        "history = model.fit(X_train, y_train, epochs=100, validation_split=0.1, \n",
        "                    callbacks=[checkpoint, early_stop])"
      ]
    },
    {
      "cell_type": "markdown",
      "metadata": {
        "id": "jjqO8rmN32t-"
      },
      "source": [
        "# Model Loss and Accuracy"
      ]
    },
    {
      "cell_type": "code",
      "execution_count": null,
      "metadata": {
        "id": "gXiP5rbZNXkO"
      },
      "outputs": [],
      "source": [
        "def plot_stats(history, epochs):\n",
        "    acc = history.history['accuracy']\n",
        "    val_acc = history.history['val_accuracy']\n",
        "\n",
        "    loss = history.history['loss']\n",
        "    val_loss = history.history['val_loss']\n",
        "\n",
        "    epochs_range = range(epochs)\n",
        "\n",
        "    plt.figure(figsize=(8, 8))\n",
        "    plt.subplot(1, 2, 1)\n",
        "    plt.plot(epochs_range, acc, label='Training Accuracy')\n",
        "    plt.plot(epochs_range, val_acc, label='Validation Accuracy')\n",
        "    plt.legend(loc='lower right')\n",
        "    plt.title('Training and Validation Accuracy')\n",
        "\n",
        "    plt.subplot(1, 2, 2)\n",
        "    plt.plot(epochs_range, loss, label='Training Loss')\n",
        "    plt.plot(epochs_range, val_loss, label='Validation Loss')\n",
        "    plt.legend(loc='upper right')\n",
        "    plt.title('Training and Validation Loss')\n",
        "    plt.show()"
      ]
    },
    {
      "cell_type": "code",
      "execution_count": null,
      "metadata": {
        "colab": {
          "base_uri": "https://localhost:8080/",
          "height": 534
        },
        "id": "TbqNJLdeNWs7",
        "outputId": "d56a3e49-b16f-420c-b582-81d27bc2c4ac"
      },
      "outputs": [
        {
          "data": {
            "image/png": "[encoded data removed]",
            "text/plain": [
              "<Figure size 576x576 with 2 Axes>"
            ]
          },
          "metadata": {},
          "output_type": "display_data"
        },
        {
          "name": "stdout",
          "output_type": "stream",
          "text": [
            "435/435 [==============================] - 23s 42ms/step - loss: 0.4472 - accuracy: 0.8529\n",
            "Test Accuracy: 0.853\n"
          ]
        }
      ],
      "source": [
        "# rollback to the best model\n",
        "plot_stats(history, early_stop.stopped_epoch+1)\n",
        "model = keras.models.load_model(model_name)\n",
        "loss, acc = model.evaluate(X_test, y_test)\n",
        "print(\"Test Accuracy: %.3f\" % acc)"
      ]
    },
    {
      "cell_type": "markdown",
      "metadata": {
        "id": "z3tFInQSpebY"
      },
      "source": [
        "# Confusion Matrix"
      ]
    },
    {
      "cell_type": "code",
      "execution_count": null,
      "metadata": {
        "colab": {
          "base_uri": "https://localhost:8080/",
          "height": 518
        },
        "id": "bVDfglVOpodH",
        "outputId": "933b38ef-c96c-4211-d9a6-eec993b1e99a"
      },
      "outputs": [
        {
          "name": "stdout",
          "output_type": "stream",
          "text": [
            "435/435 [==============================] - 22s 42ms/step\n"
          ]
        },
        {
          "data": {
            "text/plain": [
              "(<Figure size 504x504 with 1 Axes>,\n",
              " <matplotlib.axes._subplots.AxesSubplot at 0x7f93c1398e20>)"
            ]
          },
          "execution_count": 12,
          "metadata": {},
          "output_type": "execute_result"
        },
        {
          "data": {
            "image/png": "[encoded data removed]",
            "text/plain": [
              "<Figure size 504x504 with 1 Axes>"
            ]
          },
          "metadata": {},
          "output_type": "display_data"
        }
      ],
      "source": [
        "y_pred = np.argmax(model.predict(X_test), axis=-1)\n",
        "mat = confusion_matrix(y_test, y_pred)\n",
        "plot_confusion_matrix(conf_mat=mat, class_names=classes, show_normed=True, figsize=(7,7))"
      ]
    },
    {
      "cell_type": "markdown",
      "metadata": {
        "id": "zJ0Gvbjbi5kV"
      },
      "source": [
        "# Save the Model"
      ]
    },
    {
      "cell_type": "code",
      "execution_count": null,
      "metadata": {
        "colab": {
          "base_uri": "https://localhost:8080/"
        },
        "id": "uQyyoCNZps9d",
        "outputId": "dfdf9d19-b3c7-4dec-b8ae-f9e0b667cc87"
      },
      "outputs": [
        {
          "name": "stderr",
          "output_type": "stream",
          "text": [
            "WARNING:absl:Found untraced functions such as lstm_cell_13_layer_call_fn, lstm_cell_13_layer_call_and_return_conditional_losses, lstm_cell_14_layer_call_fn, lstm_cell_14_layer_call_and_return_conditional_losses, lstm_cell_16_layer_call_fn while saving (showing 5 of 16). These functions will not be directly callable after loading.\n"
          ]
        }
      ],
      "source": [
        "model.save(f'/content/drive/MyDrive/Smart Dog Collar/Models/BLSTM/{model_name}')\n",
        "\n",
        "converter = tf.lite.TFLiteConverter.from_keras_model(model)\n",
        "converter.target_spec.supported_ops = [tf.lite.OpsSet.TFLITE_BUILTINS, tf.lite.OpsSet.SELECT_TF_OPS]\n",
        "converter._experimental_lower_tensor_list_ops = False\n",
        "tflite_model = converter.convert()\n",
        "\n",
        "with open( f'/content/drive/MyDrive/Smart Dog Collar/TFLModels/basic_blstm.tflite' , 'wb' ) as f:\n",
        "  f.write(tflite_model)"
      ]
    }
  ],
  "metadata": {
    "colab": {
      "collapsed_sections": [
        "glCUMC8ooWOd"
      ],
      "provenance": []
    },
    "kernelspec": {
      "display_name": "Python 3",
      "language": "python",
      "name": "python3"
    },
    "language_info": {
      "codemirror_mode": {
        "name": "ipython",
        "version": 3
      },
      "file_extension": ".py",
      "mimetype": "text/x-python",
      "name": "python",
      "nbconvert_exporter": "python",
      "pygments_lexer": "ipython3",
      "version": "3.7.2"
    }
  },
  "nbformat": 4,
  "nbformat_minor": 0
}