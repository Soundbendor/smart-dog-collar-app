{
  "nbformat": 4,
  "nbformat_minor": 0,
  "metadata": {
    "kernelspec": {
      "display_name": "Python 3",
      "language": "python",
      "name": "python3"
    },
    "language_info": {
      "codemirror_mode": {
        "name": "ipython",
        "version": 3
      },
      "file_extension": ".py",
      "mimetype": "text/x-python",
      "name": "python",
      "nbconvert_exporter": "python",
      "pygments_lexer": "ipython3",
      "version": "3.7.2"
    },
    "colab": {
      "provenance": []
    }
  },
  "cells": [
    {
      "cell_type": "markdown",
      "metadata": {
        "id": "d9Scj9yt0TbT"
      },
      "source": [
        "# Connect to Google Drive"
      ]
    },
    {
      "cell_type": "markdown",
      "metadata": {
        "id": "d8dG426WnCLX"
      },
      "source": [
        "reference: https://kgptalkie.com/human-activity-recognition-using-accelerometer-data/\n",
        "\n",
        "Archived: https://web.archive.org/web/20210118012346/https://kgptalkie.com/human-activity-recognition-using-accelerometer-data/"
      ]
    },
    {
      "cell_type": "code",
      "metadata": {
        "colab": {
          "base_uri": "https://localhost:8080/"
        },
        "id": "NcCBLl-n3Q2z",
        "outputId": "6c1a816d-0d4c-4d18-ca72-e13790521ceb"
      },
      "source": [
        "from google.colab import drive\n",
        "drive.mount('/content/drive', force_remount=True)"
      ],
      "execution_count": null,
      "outputs": [
        {
          "output_type": "stream",
          "text": [
            "Mounted at /content/drive\n"
          ],
          "name": "stdout"
        }
      ]
    },
    {
      "cell_type": "markdown",
      "metadata": {
        "id": "gDt_5CgSL6On"
      },
      "source": [
        "# Imports"
      ]
    },
    {
      "cell_type": "code",
      "metadata": {
        "id": "0ORU9P82lm_1",
        "colab": {
          "base_uri": "https://localhost:8080/"
        },
        "outputId": "0f183873-1200-4660-9411-2dc61586f5c4"
      },
      "source": [
        "import tensorflow as tf\n",
        "from tensorflow.keras import Sequential\n",
        "from tensorflow.keras.layers import Flatten, Dense, Dropout, BatchNormalization, InputLayer\n",
        "from tensorflow.keras.optimizers import Adam\n",
        "from keras.layers.recurrent import LSTM\n",
        "from keras.callbacks import ModelCheckpoint, EarlyStopping\n",
        "import keras\n",
        "import pandas as pd\n",
        "import numpy as np\n",
        "import glob\n",
        "import matplotlib.pyplot as plt\n",
        "from sklearn.model_selection import train_test_split\n",
        "from sklearn.preprocessing import StandardScaler, LabelEncoder\n",
        "from sklearn.model_selection import cross_validate\n",
        "from sklearn.model_selection import LeaveOneGroupOut\n",
        "import scipy.stats as stats\n",
        "!pip install mlxtend==0.16.0\n",
        "from mlxtend.plotting import plot_confusion_matrix\n",
        "from sklearn.metrics import confusion_matrix"
      ],
      "execution_count": null,
      "outputs": [
        {
          "output_type": "stream",
          "text": [
            "Requirement already satisfied: mlxtend==0.16.0 in /usr/local/lib/python3.7/dist-packages (0.16.0)\n",
            "Requirement already satisfied: setuptools in /usr/local/lib/python3.7/dist-packages (from mlxtend==0.16.0) (57.0.0)\n",
            "Requirement already satisfied: scikit-learn>=0.18 in /usr/local/lib/python3.7/dist-packages (from mlxtend==0.16.0) (0.22.2.post1)\n",
            "Requirement already satisfied: matplotlib>=1.5.1 in /usr/local/lib/python3.7/dist-packages (from mlxtend==0.16.0) (3.2.2)\n",
            "Requirement already satisfied: pandas>=0.17.1 in /usr/local/lib/python3.7/dist-packages (from mlxtend==0.16.0) (1.1.5)\n",
            "Requirement already satisfied: scipy>=0.17 in /usr/local/lib/python3.7/dist-packages (from mlxtend==0.16.0) (1.4.1)\n",
            "Requirement already satisfied: numpy>=1.10.4 in /usr/local/lib/python3.7/dist-packages (from mlxtend==0.16.0) (1.19.5)\n",
            "Requirement already satisfied: joblib>=0.11 in /usr/local/lib/python3.7/dist-packages (from scikit-learn>=0.18->mlxtend==0.16.0) (1.0.1)\n",
            "Requirement already satisfied: pyparsing!=2.0.4,!=2.1.2,!=2.1.6,>=2.0.1 in /usr/local/lib/python3.7/dist-packages (from matplotlib>=1.5.1->mlxtend==0.16.0) (2.4.7)\n",
            "Requirement already satisfied: kiwisolver>=1.0.1 in /usr/local/lib/python3.7/dist-packages (from matplotlib>=1.5.1->mlxtend==0.16.0) (1.3.1)\n",
            "Requirement already satisfied: python-dateutil>=2.1 in /usr/local/lib/python3.7/dist-packages (from matplotlib>=1.5.1->mlxtend==0.16.0) (2.8.1)\n",
            "Requirement already satisfied: cycler>=0.10 in /usr/local/lib/python3.7/dist-packages (from matplotlib>=1.5.1->mlxtend==0.16.0) (0.10.0)\n",
            "Requirement already satisfied: pytz>=2017.2 in /usr/local/lib/python3.7/dist-packages (from pandas>=0.17.1->mlxtend==0.16.0) (2018.9)\n",
            "Requirement already satisfied: six>=1.5 in /usr/local/lib/python3.7/dist-packages (from python-dateutil>=2.1->matplotlib>=1.5.1->mlxtend==0.16.0) (1.15.0)\n"
          ],
          "name": "stdout"
        }
      ]
    },
    {
      "cell_type": "markdown",
      "metadata": {
        "id": "RLRWrnjW0JrE"
      },
      "source": [
        "# Set Variables for Experiment"
      ]
    },
    {
      "cell_type": "code",
      "metadata": {
        "id": "UFWvz02Bw47D"
      },
      "source": [
        "model_name = 'basic_seq_model.h5'\n",
        "classes = ['car', 'leisure', 'play', 'run_jog', 'seizure', 'sleep', 'walk']\n",
        "frame_seconds = 4\n",
        "hop_seconds = 4\n",
        "Fs = 20\n",
        "frame_size = Fs * frame_seconds \n",
        "hop_size = Fs * hop_seconds"
      ],
      "execution_count": null,
      "outputs": []
    },
    {
      "cell_type": "markdown",
      "metadata": {
        "id": "az8kDtbxe6Bx"
      },
      "source": [
        "# Load in Cleaned Dataset"
      ]
    },
    {
      "cell_type": "code",
      "metadata": {
        "colab": {
          "base_uri": "https://localhost:8080/",
          "height": 417
        },
        "id": "s2Axwtjwe5jI",
        "outputId": "31cd4a65-970c-4030-ccb9-93282036fa92"
      },
      "source": [
        "df = pd.read_csv(f'/content/drive/MyDrive/Smart Dog Collar/Data/03-31-2021_snapshot/cleaned_data.csv')\n",
        "display(df)"
      ],
      "execution_count": null,
      "outputs": [
        {
          "output_type": "display_data",
          "data": {
            "text/html": [
              "<div>\n",
              "<style scoped>\n",
              "    .dataframe tbody tr th:only-of-type {\n",
              "        vertical-align: middle;\n",
              "    }\n",
              "\n",
              "    .dataframe tbody tr th {\n",
              "        vertical-align: top;\n",
              "    }\n",
              "\n",
              "    .dataframe thead th {\n",
              "        text-align: right;\n",
              "    }\n",
              "</style>\n",
              "<table border=\"1\" class=\"dataframe\">\n",
              "  <thead>\n",
              "    <tr style=\"text-align: right;\">\n",
              "      <th></th>\n",
              "      <th>g_x</th>\n",
              "      <th>g_y</th>\n",
              "      <th>g_z</th>\n",
              "      <th>a_x</th>\n",
              "      <th>a_y</th>\n",
              "      <th>a_z</th>\n",
              "      <th>label</th>\n",
              "    </tr>\n",
              "  </thead>\n",
              "  <tbody>\n",
              "    <tr>\n",
              "      <th>0</th>\n",
              "      <td>1.196273</td>\n",
              "      <td>-1.081498</td>\n",
              "      <td>1.421736</td>\n",
              "      <td>-0.073822</td>\n",
              "      <td>-1.294081</td>\n",
              "      <td>0.425378</td>\n",
              "      <td>6</td>\n",
              "    </tr>\n",
              "    <tr>\n",
              "      <th>1</th>\n",
              "      <td>0.395422</td>\n",
              "      <td>-0.997478</td>\n",
              "      <td>0.547428</td>\n",
              "      <td>0.546037</td>\n",
              "      <td>-0.524955</td>\n",
              "      <td>-1.332338</td>\n",
              "      <td>6</td>\n",
              "    </tr>\n",
              "    <tr>\n",
              "      <th>2</th>\n",
              "      <td>0.377894</td>\n",
              "      <td>0.056450</td>\n",
              "      <td>0.315224</td>\n",
              "      <td>-0.603559</td>\n",
              "      <td>1.311507</td>\n",
              "      <td>-1.984427</td>\n",
              "      <td>6</td>\n",
              "    </tr>\n",
              "    <tr>\n",
              "      <th>3</th>\n",
              "      <td>1.654736</td>\n",
              "      <td>-0.048575</td>\n",
              "      <td>0.936797</td>\n",
              "      <td>-0.858995</td>\n",
              "      <td>3.198385</td>\n",
              "      <td>-1.394055</td>\n",
              "      <td>6</td>\n",
              "    </tr>\n",
              "    <tr>\n",
              "      <th>4</th>\n",
              "      <td>0.961782</td>\n",
              "      <td>-1.176546</td>\n",
              "      <td>1.225371</td>\n",
              "      <td>-0.884146</td>\n",
              "      <td>4.978352</td>\n",
              "      <td>-1.363603</td>\n",
              "      <td>6</td>\n",
              "    </tr>\n",
              "    <tr>\n",
              "      <th>...</th>\n",
              "      <td>...</td>\n",
              "      <td>...</td>\n",
              "      <td>...</td>\n",
              "      <td>...</td>\n",
              "      <td>...</td>\n",
              "      <td>...</td>\n",
              "      <td>...</td>\n",
              "    </tr>\n",
              "    <tr>\n",
              "      <th>5561637</th>\n",
              "      <td>0.042518</td>\n",
              "      <td>-1.711649</td>\n",
              "      <td>0.272666</td>\n",
              "      <td>-0.014613</td>\n",
              "      <td>-0.025448</td>\n",
              "      <td>-0.020896</td>\n",
              "      <td>4</td>\n",
              "    </tr>\n",
              "    <tr>\n",
              "      <th>5561638</th>\n",
              "      <td>0.115358</td>\n",
              "      <td>-1.928526</td>\n",
              "      <td>0.314478</td>\n",
              "      <td>-0.014613</td>\n",
              "      <td>-0.025448</td>\n",
              "      <td>-0.020896</td>\n",
              "      <td>4</td>\n",
              "    </tr>\n",
              "    <tr>\n",
              "      <th>5561639</th>\n",
              "      <td>-0.130428</td>\n",
              "      <td>-1.877064</td>\n",
              "      <td>0.311491</td>\n",
              "      <td>-0.014613</td>\n",
              "      <td>-0.025448</td>\n",
              "      <td>-0.020896</td>\n",
              "      <td>4</td>\n",
              "    </tr>\n",
              "    <tr>\n",
              "      <th>5561640</th>\n",
              "      <td>-0.023700</td>\n",
              "      <td>-1.652310</td>\n",
              "      <td>0.274533</td>\n",
              "      <td>-0.014613</td>\n",
              "      <td>-0.025448</td>\n",
              "      <td>-0.020896</td>\n",
              "      <td>4</td>\n",
              "    </tr>\n",
              "    <tr>\n",
              "      <th>5561641</th>\n",
              "      <td>0.047582</td>\n",
              "      <td>-1.767313</td>\n",
              "      <td>0.308131</td>\n",
              "      <td>-0.014613</td>\n",
              "      <td>-0.025448</td>\n",
              "      <td>-0.020896</td>\n",
              "      <td>4</td>\n",
              "    </tr>\n",
              "  </tbody>\n",
              "</table>\n",
              "<p>5561642 rows × 7 columns</p>\n",
              "</div>"
            ],
            "text/plain": [
              "              g_x       g_y       g_z       a_x       a_y       a_z  label\n",
              "0        1.196273 -1.081498  1.421736 -0.073822 -1.294081  0.425378      6\n",
              "1        0.395422 -0.997478  0.547428  0.546037 -0.524955 -1.332338      6\n",
              "2        0.377894  0.056450  0.315224 -0.603559  1.311507 -1.984427      6\n",
              "3        1.654736 -0.048575  0.936797 -0.858995  3.198385 -1.394055      6\n",
              "4        0.961782 -1.176546  1.225371 -0.884146  4.978352 -1.363603      6\n",
              "...           ...       ...       ...       ...       ...       ...    ...\n",
              "5561637  0.042518 -1.711649  0.272666 -0.014613 -0.025448 -0.020896      4\n",
              "5561638  0.115358 -1.928526  0.314478 -0.014613 -0.025448 -0.020896      4\n",
              "5561639 -0.130428 -1.877064  0.311491 -0.014613 -0.025448 -0.020896      4\n",
              "5561640 -0.023700 -1.652310  0.274533 -0.014613 -0.025448 -0.020896      4\n",
              "5561641  0.047582 -1.767313  0.308131 -0.014613 -0.025448 -0.020896      4\n",
              "\n",
              "[5561642 rows x 7 columns]"
            ]
          },
          "metadata": {
            "tags": []
          }
        }
      ]
    },
    {
      "cell_type": "markdown",
      "metadata": {
        "id": "qCvT_zJdoxVm"
      },
      "source": [
        "# Prepare the Data Frames\n"
      ]
    },
    {
      "cell_type": "code",
      "metadata": {
        "id": "vbZtQs6jo3Vl"
      },
      "source": [
        "def get_frames(df, frame_size, hop_size):\n",
        "\n",
        "    N_FEATURES = df.iloc[:, :-1].shape[1]\n",
        "    frames, labels = [], []\n",
        "\n",
        "    for i in range(0, df.shape[0] - frame_size, hop_size):\n",
        "        x = df['a_x'].values[i: i + frame_size]\n",
        "        y = df['a_y'].values[i: i + frame_size]\n",
        "        z = df['a_z'].values[i: i + frame_size]\n",
        "\n",
        "        gx = df['g_x'].values[i: i + frame_size]\n",
        "        gy = df['g_y'].values[i: i + frame_size]\n",
        "        gz = df['g_z'].values[i: i + frame_size]\n",
        "\n",
        "        # Retrieve the most often used label in this segment\n",
        "        label = stats.mode(df['label'][i: i + frame_size])[0][0]\n",
        "        frames.append([x, y, z, gx, gy, gz])\n",
        "        labels.append(label)\n",
        "        \n",
        "    # Bring the segments into a better shape\n",
        "    frames = np.asarray(frames).reshape(-1, frame_size, N_FEATURES)\n",
        "\n",
        "    labels = np.asarray(labels)\n",
        "    return frames, labels"
      ],
      "execution_count": null,
      "outputs": []
    },
    {
      "cell_type": "code",
      "metadata": {
        "id": "skRwehG1QkjV",
        "colab": {
          "base_uri": "https://localhost:8080/"
        },
        "outputId": "8a19b9bb-4b71-4515-9ddb-49ca9cad4f04"
      },
      "source": [
        "X, y = get_frames(df, frame_size, hop_size)\n",
        "X_train, X_test, y_train, y_test = train_test_split(X, y, test_size=0.2, \n",
        "                                                    random_state=0, \n",
        "                                                    stratify=y)\n",
        "print('X train shape', X_train.shape)    \n",
        "print('y train shape', y_train.shape)\n",
        "print('X test shape', X_test.shape)    \n",
        "print('y test shape', y_test.shape)"
      ],
      "execution_count": null,
      "outputs": [
        {
          "output_type": "stream",
          "text": [
            "X train shape (55616, 80, 6)\n",
            "y train shape (55616,)\n",
            "X test shape (13904, 80, 6)\n",
            "y test shape (13904,)\n"
          ],
          "name": "stdout"
        }
      ]
    },
    {
      "cell_type": "markdown",
      "metadata": {
        "id": "KAOHUeZTpL4p"
      },
      "source": [
        "# Run Model"
      ]
    },
    {
      "cell_type": "code",
      "metadata": {
        "id": "VEj__JC_pRAE",
        "colab": {
          "base_uri": "https://localhost:8080/"
        },
        "outputId": "28529122-d4df-4257-9a13-56479fc0febc"
      },
      "source": [
        "num_classes = len(classes)\n",
        "model = Sequential([\n",
        "    InputLayer(input_shape=X_train[0].shape),\n",
        "    Dense(300, activation='relu'),\n",
        "    Dense(100, activation='relu'),\n",
        "    Flatten(),\n",
        "    Dense(num_classes, activation='softmax')\n",
        "])\n",
        "model.compile(optimizer=Adam(learning_rate=0.001), loss='sparse_categorical_crossentropy', \n",
        "              metrics=['accuracy'])\n",
        "model.summary()"
      ],
      "execution_count": null,
      "outputs": [
        {
          "output_type": "stream",
          "text": [
            "Model: \"sequential\"\n",
            "_________________________________________________________________\n",
            "Layer (type)                 Output Shape              Param #   \n",
            "=================================================================\n",
            "dense (Dense)                (None, 80, 300)           2100      \n",
            "_________________________________________________________________\n",
            "dense_1 (Dense)              (None, 80, 100)           30100     \n",
            "_________________________________________________________________\n",
            "flatten (Flatten)            (None, 8000)              0         \n",
            "_________________________________________________________________\n",
            "dense_2 (Dense)              (None, 7)                 56007     \n",
            "=================================================================\n",
            "Total params: 88,207\n",
            "Trainable params: 88,207\n",
            "Non-trainable params: 0\n",
            "_________________________________________________________________\n"
          ],
          "name": "stdout"
        }
      ]
    },
    {
      "cell_type": "code",
      "metadata": {
        "colab": {
          "base_uri": "https://localhost:8080/"
        },
        "id": "AoYRgi_LFzq8",
        "outputId": "e1b3e959-225c-45ff-ad1b-0e2beffaa722"
      },
      "source": [
        "checkpoint = ModelCheckpoint(model_name, save_best_only=True)\n",
        "early_stop = EarlyStopping(patience=8, restore_best_weights=True)\n",
        "history = model.fit(X_train, y_train, epochs=100, validation_split=0.1, \n",
        "                    callbacks=[checkpoint, early_stop])"
      ],
      "execution_count": null,
      "outputs": [
        {
          "output_type": "stream",
          "text": [
            "Epoch 1/100\n",
            "1565/1565 [==============================] - 35s 22ms/step - loss: 0.5546 - accuracy: 0.8121 - val_loss: 0.4572 - val_accuracy: 0.8538\n",
            "Epoch 2/100\n",
            "1565/1565 [==============================] - 34s 22ms/step - loss: 0.3769 - accuracy: 0.8732 - val_loss: 0.3850 - val_accuracy: 0.8706\n",
            "Epoch 3/100\n",
            "1565/1565 [==============================] - 34s 22ms/step - loss: 0.3221 - accuracy: 0.8887 - val_loss: 0.3706 - val_accuracy: 0.8794\n",
            "Epoch 4/100\n",
            "1565/1565 [==============================] - 32s 21ms/step - loss: 0.2870 - accuracy: 0.9013 - val_loss: 0.3651 - val_accuracy: 0.8808\n",
            "Epoch 5/100\n",
            "1565/1565 [==============================] - 32s 21ms/step - loss: 0.2556 - accuracy: 0.9123 - val_loss: 0.3727 - val_accuracy: 0.8822\n",
            "Epoch 6/100\n",
            "1565/1565 [==============================] - 33s 21ms/step - loss: 0.2310 - accuracy: 0.9212 - val_loss: 0.3703 - val_accuracy: 0.8905\n",
            "Epoch 7/100\n",
            "1565/1565 [==============================] - 33s 21ms/step - loss: 0.2122 - accuracy: 0.9272 - val_loss: 0.3928 - val_accuracy: 0.8842\n",
            "Epoch 8/100\n",
            "1565/1565 [==============================] - 33s 21ms/step - loss: 0.1955 - accuracy: 0.9341 - val_loss: 0.4001 - val_accuracy: 0.8883\n",
            "Epoch 9/100\n",
            "1565/1565 [==============================] - 34s 21ms/step - loss: 0.1823 - accuracy: 0.9381 - val_loss: 0.4117 - val_accuracy: 0.8923\n",
            "Epoch 10/100\n",
            "1565/1565 [==============================] - 33s 21ms/step - loss: 0.1658 - accuracy: 0.9440 - val_loss: 0.4461 - val_accuracy: 0.8946\n",
            "Epoch 11/100\n",
            "1565/1565 [==============================] - 34s 22ms/step - loss: 0.1568 - accuracy: 0.9467 - val_loss: 0.4795 - val_accuracy: 0.8903\n",
            "Epoch 12/100\n",
            "1565/1565 [==============================] - 34s 21ms/step - loss: 0.1515 - accuracy: 0.9495 - val_loss: 0.5234 - val_accuracy: 0.8817\n",
            "Epoch 13/100\n",
            "1565/1565 [==============================] - 34s 22ms/step - loss: 0.1430 - accuracy: 0.9527 - val_loss: 0.5124 - val_accuracy: 0.8910\n",
            "Epoch 14/100\n",
            "1565/1565 [==============================] - 34s 21ms/step - loss: 0.1315 - accuracy: 0.9557 - val_loss: 0.5673 - val_accuracy: 0.8910\n"
          ],
          "name": "stdout"
        }
      ]
    },
    {
      "cell_type": "markdown",
      "metadata": {
        "id": "ALnRH2gVXot7"
      },
      "source": [
        "First model, no dropout: 0.95/0.88, 0.13/0.58"
      ]
    },
    {
      "cell_type": "markdown",
      "metadata": {
        "id": "jjqO8rmN32t-"
      },
      "source": [
        "# Model Loss and Accuracy"
      ]
    },
    {
      "cell_type": "code",
      "metadata": {
        "id": "gXiP5rbZNXkO"
      },
      "source": [
        "def plot_stats(history, epochs):\n",
        "    acc = history.history['accuracy']\n",
        "    val_acc = history.history['val_accuracy']\n",
        "\n",
        "    loss = history.history['loss']\n",
        "    val_loss = history.history['val_loss']\n",
        "\n",
        "    epochs_range = range(epochs)\n",
        "\n",
        "    plt.figure(figsize=(8, 8))\n",
        "    plt.subplot(1, 2, 1)\n",
        "    plt.plot(epochs_range, acc, label='Training Accuracy')\n",
        "    plt.plot(epochs_range, val_acc, label='Validation Accuracy')\n",
        "    plt.legend(loc='lower right')\n",
        "    plt.title('Training and Validation Accuracy')\n",
        "\n",
        "    plt.subplot(1, 2, 2)\n",
        "    plt.plot(epochs_range, loss, label='Training Loss')\n",
        "    plt.plot(epochs_range, val_loss, label='Validation Loss')\n",
        "    plt.legend(loc='upper right')\n",
        "    plt.title('Training and Validation Loss')\n",
        "    plt.show()"
      ],
      "execution_count": null,
      "outputs": []
    },
    {
      "cell_type": "code",
      "metadata": {
        "id": "TbqNJLdeNWs7",
        "colab": {
          "base_uri": "https://localhost:8080/",
          "height": 533
        },
        "outputId": "5046c374-5fd1-4def-dd36-00a5348c7cae"
      },
      "source": [
        "# rollback to the best model\n",
        "plot_stats(history, early_stop.stopped_epoch+1)\n",
        "model = keras.models.load_model(model_name)\n",
        "loss, acc = model.evaluate(X_test, y_test)\n",
        "print(\"Test Accuracy: %.3f\" % acc)"
      ],
      "execution_count": null,
      "outputs": [
        {
          "output_type": "display_data",
          "data": {
            "image/png": "[encoded data removed]",
            "text/plain": [
              "<Figure size 576x576 with 2 Axes>"
            ]
          },
          "metadata": {
            "tags": [],
            "needs_background": "light"
          }
        },
        {
          "output_type": "stream",
          "text": [
            "435/435 [==============================] - 16s 8ms/step - loss: 0.3577 - accuracy: 0.8823\n",
            "Test Accuracy: 0.882\n"
          ],
          "name": "stdout"
        }
      ]
    },
    {
      "cell_type": "markdown",
      "metadata": {
        "id": "z3tFInQSpebY"
      },
      "source": [
        "# Confusion Matrix"
      ]
    },
    {
      "cell_type": "code",
      "metadata": {
        "id": "bVDfglVOpodH",
        "colab": {
          "base_uri": "https://localhost:8080/",
          "height": 500
        },
        "outputId": "8f2d2784-dc1f-4f56-c0a9-6da890926e7c"
      },
      "source": [
        "y_pred = np.argmax(model.predict(X_test), axis=-1)\n",
        "mat = confusion_matrix(y_test, y_pred)\n",
        "plot_confusion_matrix(conf_mat=mat, class_names=classes, show_normed=True, figsize=(7,7))"
      ],
      "execution_count": null,
      "outputs": [
        {
          "output_type": "execute_result",
          "data": {
            "text/plain": [
              "(<Figure size 504x504 with 1 Axes>,\n",
              " <matplotlib.axes._subplots.AxesSubplot at 0x7f89806b5750>)"
            ]
          },
          "metadata": {
            "tags": []
          },
          "execution_count": 11
        },
        {
          "output_type": "display_data",
          "data": {
            "image/png": "[encoded data removed]",
            "text/plain": [
              "<Figure size 504x504 with 1 Axes>"
            ]
          },
          "metadata": {
            "tags": [],
            "needs_background": "light"
          }
        }
      ]
    },
    {
      "cell_type": "markdown",
      "metadata": {
        "id": "zJ0Gvbjbi5kV"
      },
      "source": [
        "# Save the Model"
      ]
    },
    {
      "cell_type": "code",
      "metadata": {
        "id": "uQyyoCNZps9d"
      },
      "source": [
        "model.save(f'/content/drive/MyDrive/Smart Dog Collar/Models/{model_name}')"
      ],
      "execution_count": null,
      "outputs": []
    }
  ]
}