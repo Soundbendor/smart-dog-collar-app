{
  "nbformat": 4,
  "nbformat_minor": 0,
  "metadata": {
    "kernelspec": {
      "display_name": "Python 3",
      "language": "python",
      "name": "python3"
    },
    "language_info": {
      "codemirror_mode": {
        "name": "ipython",
        "version": 3
      },
      "file_extension": ".py",
      "mimetype": "text/x-python",
      "name": "python",
      "nbconvert_exporter": "python",
      "pygments_lexer": "ipython3",
      "version": "3.7.2"
    },
    "colab": {
      "provenance": [],
      "collapsed_sections": [
        "glCUMC8ooWOd"
      ]
    }
  },
  "cells": [
    {
      "cell_type": "markdown",
      "metadata": {
        "id": "d9Scj9yt0TbT"
      },
      "source": [
        "# Connect to Google Drive"
      ]
    },
    {
      "cell_type": "markdown",
      "metadata": {
        "id": "d8dG426WnCLX"
      },
      "source": [
        "reference: https://kgptalkie.com/human-activity-recognition-using-accelerometer-data/\n",
        "\n",
        "Archived: https://web.archive.org/web/20210118012346/https://kgptalkie.com/human-activity-recognition-using-accelerometer-data/"
      ]
    },
    {
      "cell_type": "code",
      "metadata": {
        "colab": {
          "base_uri": "https://localhost:8080/"
        },
        "id": "NcCBLl-n3Q2z",
        "outputId": "c0cf3f10-ac45-4bd6-8ba7-269a20a09a0d"
      },
      "source": [
        "from google.colab import drive\n",
        "drive.mount('/content/drive', force_remount=True)"
      ],
      "execution_count": null,
      "outputs": [
        {
          "output_type": "stream",
          "text": [
            "Mounted at /content/drive\n"
          ],
          "name": "stdout"
        }
      ]
    },
    {
      "cell_type": "markdown",
      "metadata": {
        "id": "gDt_5CgSL6On"
      },
      "source": [
        "# Imports"
      ]
    },
    {
      "cell_type": "code",
      "metadata": {
        "id": "0ORU9P82lm_1",
        "colab": {
          "base_uri": "https://localhost:8080/"
        },
        "outputId": "f6237b19-0469-4bc1-8241-2f1ae8fb35fa"
      },
      "source": [
        "import tensorflow as tf\n",
        "from tensorflow.keras import Sequential\n",
        "from tensorflow.keras.layers import Flatten, Dense, Dropout, BatchNormalization, InputLayer\n",
        "from tensorflow.keras.layers import SimpleRNN, LSTM, GRU\n",
        "from tensorflow.keras.optimizers import Adam\n",
        "from tensorflow.keras.callbacks import ModelCheckpoint, EarlyStopping\n",
        "import keras\n",
        "import tensorflow.keras\n",
        "from sklearn.model_selection import train_test_split\n",
        "import pandas as pd\n",
        "import numpy as np\n",
        "import glob\n",
        "import matplotlib.pyplot as plt\n",
        "import scipy.stats as stats\n",
        "!pip install mlxtend==0.16.0\n",
        "from mlxtend.plotting import plot_confusion_matrix\n",
        "from sklearn.metrics import confusion_matrix"
      ],
      "execution_count": null,
      "outputs": [
        {
          "output_type": "stream",
          "text": [
            "Collecting mlxtend==0.16.0\n",
            "  Downloading mlxtend-0.16.0-py2.py3-none-any.whl (1.3 MB)\n",
            "\u001b[?25l\r\u001b[K     |▎                               | 10 kB 26.3 MB/s eta 0:00:01\r\u001b[K     |▌                               | 20 kB 27.4 MB/s eta 0:00:01\r\u001b[K     |▊                               | 30 kB 33.3 MB/s eta 0:00:01\r\u001b[K     |█                               | 40 kB 25.0 MB/s eta 0:00:01\r\u001b[K     |█▎                              | 51 kB 17.5 MB/s eta 0:00:01\r\u001b[K     |█▌                              | 61 kB 18.4 MB/s eta 0:00:01\r\u001b[K     |█▊                              | 71 kB 11.8 MB/s eta 0:00:01\r\u001b[K     |██                              | 81 kB 13.0 MB/s eta 0:00:01\r\u001b[K     |██▎                             | 92 kB 12.7 MB/s eta 0:00:01\r\u001b[K     |██▌                             | 102 kB 13.3 MB/s eta 0:00:01\r\u001b[K     |██▊                             | 112 kB 13.3 MB/s eta 0:00:01\r\u001b[K     |███                             | 122 kB 13.3 MB/s eta 0:00:01\r\u001b[K     |███▎                            | 133 kB 13.3 MB/s eta 0:00:01\r\u001b[K     |███▌                            | 143 kB 13.3 MB/s eta 0:00:01\r\u001b[K     |███▊                            | 153 kB 13.3 MB/s eta 0:00:01\r\u001b[K     |████                            | 163 kB 13.3 MB/s eta 0:00:01\r\u001b[K     |████▎                           | 174 kB 13.3 MB/s eta 0:00:01\r\u001b[K     |████▌                           | 184 kB 13.3 MB/s eta 0:00:01\r\u001b[K     |████▊                           | 194 kB 13.3 MB/s eta 0:00:01\r\u001b[K     |█████                           | 204 kB 13.3 MB/s eta 0:00:01\r\u001b[K     |█████▎                          | 215 kB 13.3 MB/s eta 0:00:01\r\u001b[K     |█████▌                          | 225 kB 13.3 MB/s eta 0:00:01\r\u001b[K     |█████▊                          | 235 kB 13.3 MB/s eta 0:00:01\r\u001b[K     |██████                          | 245 kB 13.3 MB/s eta 0:00:01\r\u001b[K     |██████▎                         | 256 kB 13.3 MB/s eta 0:00:01\r\u001b[K     |██████▌                         | 266 kB 13.3 MB/s eta 0:00:01\r\u001b[K     |██████▊                         | 276 kB 13.3 MB/s eta 0:00:01\r\u001b[K     |███████                         | 286 kB 13.3 MB/s eta 0:00:01\r\u001b[K     |███████▎                        | 296 kB 13.3 MB/s eta 0:00:01\r\u001b[K     |███████▌                        | 307 kB 13.3 MB/s eta 0:00:01\r\u001b[K     |███████▊                        | 317 kB 13.3 MB/s eta 0:00:01\r\u001b[K     |████████                        | 327 kB 13.3 MB/s eta 0:00:01\r\u001b[K     |████████▎                       | 337 kB 13.3 MB/s eta 0:00:01\r\u001b[K     |████████▌                       | 348 kB 13.3 MB/s eta 0:00:01\r\u001b[K     |████████▊                       | 358 kB 13.3 MB/s eta 0:00:01\r\u001b[K     |█████████                       | 368 kB 13.3 MB/s eta 0:00:01\r\u001b[K     |█████████▏                      | 378 kB 13.3 MB/s eta 0:00:01\r\u001b[K     |█████████▌                      | 389 kB 13.3 MB/s eta 0:00:01\r\u001b[K     |█████████▊                      | 399 kB 13.3 MB/s eta 0:00:01\r\u001b[K     |██████████                      | 409 kB 13.3 MB/s eta 0:00:01\r\u001b[K     |██████████▏                     | 419 kB 13.3 MB/s eta 0:00:01\r\u001b[K     |██████████▌                     | 430 kB 13.3 MB/s eta 0:00:01\r\u001b[K     |██████████▊                     | 440 kB 13.3 MB/s eta 0:00:01\r\u001b[K     |███████████                     | 450 kB 13.3 MB/s eta 0:00:01\r\u001b[K     |███████████▏                    | 460 kB 13.3 MB/s eta 0:00:01\r\u001b[K     |███████████▌                    | 471 kB 13.3 MB/s eta 0:00:01\r\u001b[K     |███████████▊                    | 481 kB 13.3 MB/s eta 0:00:01\r\u001b[K     |████████████                    | 491 kB 13.3 MB/s eta 0:00:01\r\u001b[K     |████████████▏                   | 501 kB 13.3 MB/s eta 0:00:01\r\u001b[K     |████████████▌                   | 512 kB 13.3 MB/s eta 0:00:01\r\u001b[K     |████████████▊                   | 522 kB 13.3 MB/s eta 0:00:01\r\u001b[K     |█████████████                   | 532 kB 13.3 MB/s eta 0:00:01\r\u001b[K     |█████████████▏                  | 542 kB 13.3 MB/s eta 0:00:01\r\u001b[K     |█████████████▌                  | 552 kB 13.3 MB/s eta 0:00:01\r\u001b[K     |█████████████▊                  | 563 kB 13.3 MB/s eta 0:00:01\r\u001b[K     |██████████████                  | 573 kB 13.3 MB/s eta 0:00:01\r\u001b[K     |██████████████▏                 | 583 kB 13.3 MB/s eta 0:00:01\r\u001b[K     |██████████████▌                 | 593 kB 13.3 MB/s eta 0:00:01\r\u001b[K     |██████████████▊                 | 604 kB 13.3 MB/s eta 0:00:01\r\u001b[K     |███████████████                 | 614 kB 13.3 MB/s eta 0:00:01\r\u001b[K     |███████████████▏                | 624 kB 13.3 MB/s eta 0:00:01\r\u001b[K     |███████████████▌                | 634 kB 13.3 MB/s eta 0:00:01\r\u001b[K     |███████████████▊                | 645 kB 13.3 MB/s eta 0:00:01\r\u001b[K     |████████████████                | 655 kB 13.3 MB/s eta 0:00:01\r\u001b[K     |████████████████▏               | 665 kB 13.3 MB/s eta 0:00:01\r\u001b[K     |████████████████▌               | 675 kB 13.3 MB/s eta 0:00:01\r\u001b[K     |████████████████▊               | 686 kB 13.3 MB/s eta 0:00:01\r\u001b[K     |█████████████████               | 696 kB 13.3 MB/s eta 0:00:01\r\u001b[K     |█████████████████▏              | 706 kB 13.3 MB/s eta 0:00:01\r\u001b[K     |█████████████████▍              | 716 kB 13.3 MB/s eta 0:00:01\r\u001b[K     |█████████████████▊              | 727 kB 13.3 MB/s eta 0:00:01\r\u001b[K     |██████████████████              | 737 kB 13.3 MB/s eta 0:00:01\r\u001b[K     |██████████████████▏             | 747 kB 13.3 MB/s eta 0:00:01\r\u001b[K     |██████████████████▍             | 757 kB 13.3 MB/s eta 0:00:01\r\u001b[K     |██████████████████▊             | 768 kB 13.3 MB/s eta 0:00:01\r\u001b[K     |███████████████████             | 778 kB 13.3 MB/s eta 0:00:01\r\u001b[K     |███████████████████▏            | 788 kB 13.3 MB/s eta 0:00:01\r\u001b[K     |███████████████████▍            | 798 kB 13.3 MB/s eta 0:00:01\r\u001b[K     |███████████████████▊            | 808 kB 13.3 MB/s eta 0:00:01\r\u001b[K     |████████████████████            | 819 kB 13.3 MB/s eta 0:00:01\r\u001b[K     |████████████████████▏           | 829 kB 13.3 MB/s eta 0:00:01\r\u001b[K     |████████████████████▍           | 839 kB 13.3 MB/s eta 0:00:01\r\u001b[K     |████████████████████▊           | 849 kB 13.3 MB/s eta 0:00:01\r\u001b[K     |█████████████████████           | 860 kB 13.3 MB/s eta 0:00:01\r\u001b[K     |█████████████████████▏          | 870 kB 13.3 MB/s eta 0:00:01\r\u001b[K     |█████████████████████▍          | 880 kB 13.3 MB/s eta 0:00:01\r\u001b[K     |█████████████████████▊          | 890 kB 13.3 MB/s eta 0:00:01\r\u001b[K     |██████████████████████          | 901 kB 13.3 MB/s eta 0:00:01\r\u001b[K     |██████████████████████▏         | 911 kB 13.3 MB/s eta 0:00:01\r\u001b[K     |██████████████████████▍         | 921 kB 13.3 MB/s eta 0:00:01\r\u001b[K     |██████████████████████▊         | 931 kB 13.3 MB/s eta 0:00:01\r\u001b[K     |███████████████████████         | 942 kB 13.3 MB/s eta 0:00:01\r\u001b[K     |███████████████████████▏        | 952 kB 13.3 MB/s eta 0:00:01\r\u001b[K     |███████████████████████▍        | 962 kB 13.3 MB/s eta 0:00:01\r\u001b[K     |███████████████████████▊        | 972 kB 13.3 MB/s eta 0:00:01\r\u001b[K     |████████████████████████        | 983 kB 13.3 MB/s eta 0:00:01\r\u001b[K     |████████████████████████▏       | 993 kB 13.3 MB/s eta 0:00:01\r\u001b[K     |████████████████████████▍       | 1.0 MB 13.3 MB/s eta 0:00:01\r\u001b[K     |████████████████████████▊       | 1.0 MB 13.3 MB/s eta 0:00:01\r\u001b[K     |█████████████████████████       | 1.0 MB 13.3 MB/s eta 0:00:01\r\u001b[K     |█████████████████████████▏      | 1.0 MB 13.3 MB/s eta 0:00:01\r\u001b[K     |█████████████████████████▍      | 1.0 MB 13.3 MB/s eta 0:00:01\r\u001b[K     |█████████████████████████▋      | 1.1 MB 13.3 MB/s eta 0:00:01\r\u001b[K     |██████████████████████████      | 1.1 MB 13.3 MB/s eta 0:00:01\r\u001b[K     |██████████████████████████▏     | 1.1 MB 13.3 MB/s eta 0:00:01\r\u001b[K     |██████████████████████████▍     | 1.1 MB 13.3 MB/s eta 0:00:01\r\u001b[K     |██████████████████████████▋     | 1.1 MB 13.3 MB/s eta 0:00:01\r\u001b[K     |███████████████████████████     | 1.1 MB 13.3 MB/s eta 0:00:01\r\u001b[K     |███████████████████████████▏    | 1.1 MB 13.3 MB/s eta 0:00:01\r\u001b[K     |███████████████████████████▍    | 1.1 MB 13.3 MB/s eta 0:00:01\r\u001b[K     |███████████████████████████▋    | 1.1 MB 13.3 MB/s eta 0:00:01\r\u001b[K     |████████████████████████████    | 1.1 MB 13.3 MB/s eta 0:00:01\r\u001b[K     |████████████████████████████▏   | 1.2 MB 13.3 MB/s eta 0:00:01\r\u001b[K     |████████████████████████████▍   | 1.2 MB 13.3 MB/s eta 0:00:01\r\u001b[K     |████████████████████████████▋   | 1.2 MB 13.3 MB/s eta 0:00:01\r\u001b[K     |█████████████████████████████   | 1.2 MB 13.3 MB/s eta 0:00:01\r\u001b[K     |█████████████████████████████▏  | 1.2 MB 13.3 MB/s eta 0:00:01\r\u001b[K     |█████████████████████████████▍  | 1.2 MB 13.3 MB/s eta 0:00:01\r\u001b[K     |█████████████████████████████▋  | 1.2 MB 13.3 MB/s eta 0:00:01\r\u001b[K     |██████████████████████████████  | 1.2 MB 13.3 MB/s eta 0:00:01\r\u001b[K     |██████████████████████████████▏ | 1.2 MB 13.3 MB/s eta 0:00:01\r\u001b[K     |██████████████████████████████▍ | 1.2 MB 13.3 MB/s eta 0:00:01\r\u001b[K     |██████████████████████████████▋ | 1.3 MB 13.3 MB/s eta 0:00:01\r\u001b[K     |███████████████████████████████ | 1.3 MB 13.3 MB/s eta 0:00:01\r\u001b[K     |███████████████████████████████▏| 1.3 MB 13.3 MB/s eta 0:00:01\r\u001b[K     |███████████████████████████████▍| 1.3 MB 13.3 MB/s eta 0:00:01\r\u001b[K     |███████████████████████████████▋| 1.3 MB 13.3 MB/s eta 0:00:01\r\u001b[K     |████████████████████████████████| 1.3 MB 13.3 MB/s eta 0:00:01\r\u001b[K     |████████████████████████████████| 1.3 MB 13.3 MB/s \n",
            "\u001b[?25hRequirement already satisfied: matplotlib>=1.5.1 in /usr/local/lib/python3.7/dist-packages (from mlxtend==0.16.0) (3.2.2)\n",
            "Requirement already satisfied: scikit-learn>=0.18 in /usr/local/lib/python3.7/dist-packages (from mlxtend==0.16.0) (0.22.2.post1)\n",
            "Requirement already satisfied: scipy>=0.17 in /usr/local/lib/python3.7/dist-packages (from mlxtend==0.16.0) (1.4.1)\n",
            "Requirement already satisfied: numpy>=1.10.4 in /usr/local/lib/python3.7/dist-packages (from mlxtend==0.16.0) (1.19.5)\n",
            "Requirement already satisfied: setuptools in /usr/local/lib/python3.7/dist-packages (from mlxtend==0.16.0) (57.2.0)\n",
            "Requirement already satisfied: pandas>=0.17.1 in /usr/local/lib/python3.7/dist-packages (from mlxtend==0.16.0) (1.1.5)\n",
            "Requirement already satisfied: pyparsing!=2.0.4,!=2.1.2,!=2.1.6,>=2.0.1 in /usr/local/lib/python3.7/dist-packages (from matplotlib>=1.5.1->mlxtend==0.16.0) (2.4.7)\n",
            "Requirement already satisfied: python-dateutil>=2.1 in /usr/local/lib/python3.7/dist-packages (from matplotlib>=1.5.1->mlxtend==0.16.0) (2.8.1)\n",
            "Requirement already satisfied: cycler>=0.10 in /usr/local/lib/python3.7/dist-packages (from matplotlib>=1.5.1->mlxtend==0.16.0) (0.10.0)\n",
            "Requirement already satisfied: kiwisolver>=1.0.1 in /usr/local/lib/python3.7/dist-packages (from matplotlib>=1.5.1->mlxtend==0.16.0) (1.3.1)\n",
            "Requirement already satisfied: six in /usr/local/lib/python3.7/dist-packages (from cycler>=0.10->matplotlib>=1.5.1->mlxtend==0.16.0) (1.15.0)\n",
            "Requirement already satisfied: pytz>=2017.2 in /usr/local/lib/python3.7/dist-packages (from pandas>=0.17.1->mlxtend==0.16.0) (2018.9)\n",
            "Requirement already satisfied: joblib>=0.11 in /usr/local/lib/python3.7/dist-packages (from scikit-learn>=0.18->mlxtend==0.16.0) (1.0.1)\n",
            "Installing collected packages: mlxtend\n",
            "  Attempting uninstall: mlxtend\n",
            "    Found existing installation: mlxtend 0.14.0\n",
            "    Uninstalling mlxtend-0.14.0:\n",
            "      Successfully uninstalled mlxtend-0.14.0\n",
            "Successfully installed mlxtend-0.16.0\n"
          ],
          "name": "stdout"
        }
      ]
    },
    {
      "cell_type": "markdown",
      "metadata": {
        "id": "RLRWrnjW0JrE"
      },
      "source": [
        "# Set Variables for Experiment"
      ]
    },
    {
      "cell_type": "code",
      "metadata": {
        "id": "UFWvz02Bw47D"
      },
      "source": [
        "model_name = 'gru_model.h5'\n",
        "classes = ['car', 'leisure', 'play', 'run_jog', 'seizure', 'sleep', 'walk']\n",
        "frame_seconds = 4\n",
        "hop_seconds = 4\n",
        "Fs = 20\n",
        "frame_size = Fs * frame_seconds \n",
        "hop_size = Fs * hop_seconds"
      ],
      "execution_count": null,
      "outputs": []
    },
    {
      "cell_type": "markdown",
      "metadata": {
        "id": "az8kDtbxe6Bx"
      },
      "source": [
        "# Load in Cleaned Dataset"
      ]
    },
    {
      "cell_type": "code",
      "metadata": {
        "colab": {
          "base_uri": "https://localhost:8080/",
          "height": 417
        },
        "id": "s2Axwtjwe5jI",
        "outputId": "bf462159-5b74-4033-f707-936ffd658c10"
      },
      "source": [
        "df = pd.read_csv(f'/content/drive/MyDrive/Smart Dog Collar/Data/03-31-2021_snapshot/cleaned_data.csv')\n",
        "display(df)"
      ],
      "execution_count": null,
      "outputs": [
        {
          "output_type": "display_data",
          "data": {
            "text/html": [
              "<div>\n",
              "<style scoped>\n",
              "    .dataframe tbody tr th:only-of-type {\n",
              "        vertical-align: middle;\n",
              "    }\n",
              "\n",
              "    .dataframe tbody tr th {\n",
              "        vertical-align: top;\n",
              "    }\n",
              "\n",
              "    .dataframe thead th {\n",
              "        text-align: right;\n",
              "    }\n",
              "</style>\n",
              "<table border=\"1\" class=\"dataframe\">\n",
              "  <thead>\n",
              "    <tr style=\"text-align: right;\">\n",
              "      <th></th>\n",
              "      <th>g_x</th>\n",
              "      <th>g_y</th>\n",
              "      <th>g_z</th>\n",
              "      <th>a_x</th>\n",
              "      <th>a_y</th>\n",
              "      <th>a_z</th>\n",
              "      <th>label</th>\n",
              "    </tr>\n",
              "  </thead>\n",
              "  <tbody>\n",
              "    <tr>\n",
              "      <th>0</th>\n",
              "      <td>1.196273</td>\n",
              "      <td>-1.081498</td>\n",
              "      <td>1.421736</td>\n",
              "      <td>-0.073822</td>\n",
              "      <td>-1.294081</td>\n",
              "      <td>0.425378</td>\n",
              "      <td>6</td>\n",
              "    </tr>\n",
              "    <tr>\n",
              "      <th>1</th>\n",
              "      <td>0.395422</td>\n",
              "      <td>-0.997478</td>\n",
              "      <td>0.547428</td>\n",
              "      <td>0.546037</td>\n",
              "      <td>-0.524955</td>\n",
              "      <td>-1.332338</td>\n",
              "      <td>6</td>\n",
              "    </tr>\n",
              "    <tr>\n",
              "      <th>2</th>\n",
              "      <td>0.377894</td>\n",
              "      <td>0.056450</td>\n",
              "      <td>0.315224</td>\n",
              "      <td>-0.603559</td>\n",
              "      <td>1.311507</td>\n",
              "      <td>-1.984427</td>\n",
              "      <td>6</td>\n",
              "    </tr>\n",
              "    <tr>\n",
              "      <th>3</th>\n",
              "      <td>1.654736</td>\n",
              "      <td>-0.048575</td>\n",
              "      <td>0.936797</td>\n",
              "      <td>-0.858995</td>\n",
              "      <td>3.198385</td>\n",
              "      <td>-1.394055</td>\n",
              "      <td>6</td>\n",
              "    </tr>\n",
              "    <tr>\n",
              "      <th>4</th>\n",
              "      <td>0.961782</td>\n",
              "      <td>-1.176546</td>\n",
              "      <td>1.225371</td>\n",
              "      <td>-0.884146</td>\n",
              "      <td>4.978352</td>\n",
              "      <td>-1.363603</td>\n",
              "      <td>6</td>\n",
              "    </tr>\n",
              "    <tr>\n",
              "      <th>...</th>\n",
              "      <td>...</td>\n",
              "      <td>...</td>\n",
              "      <td>...</td>\n",
              "      <td>...</td>\n",
              "      <td>...</td>\n",
              "      <td>...</td>\n",
              "      <td>...</td>\n",
              "    </tr>\n",
              "    <tr>\n",
              "      <th>5561637</th>\n",
              "      <td>0.042518</td>\n",
              "      <td>-1.711649</td>\n",
              "      <td>0.272666</td>\n",
              "      <td>-0.014613</td>\n",
              "      <td>-0.025448</td>\n",
              "      <td>-0.020896</td>\n",
              "      <td>4</td>\n",
              "    </tr>\n",
              "    <tr>\n",
              "      <th>5561638</th>\n",
              "      <td>0.115358</td>\n",
              "      <td>-1.928526</td>\n",
              "      <td>0.314478</td>\n",
              "      <td>-0.014613</td>\n",
              "      <td>-0.025448</td>\n",
              "      <td>-0.020896</td>\n",
              "      <td>4</td>\n",
              "    </tr>\n",
              "    <tr>\n",
              "      <th>5561639</th>\n",
              "      <td>-0.130428</td>\n",
              "      <td>-1.877064</td>\n",
              "      <td>0.311491</td>\n",
              "      <td>-0.014613</td>\n",
              "      <td>-0.025448</td>\n",
              "      <td>-0.020896</td>\n",
              "      <td>4</td>\n",
              "    </tr>\n",
              "    <tr>\n",
              "      <th>5561640</th>\n",
              "      <td>-0.023700</td>\n",
              "      <td>-1.652310</td>\n",
              "      <td>0.274533</td>\n",
              "      <td>-0.014613</td>\n",
              "      <td>-0.025448</td>\n",
              "      <td>-0.020896</td>\n",
              "      <td>4</td>\n",
              "    </tr>\n",
              "    <tr>\n",
              "      <th>5561641</th>\n",
              "      <td>0.047582</td>\n",
              "      <td>-1.767313</td>\n",
              "      <td>0.308131</td>\n",
              "      <td>-0.014613</td>\n",
              "      <td>-0.025448</td>\n",
              "      <td>-0.020896</td>\n",
              "      <td>4</td>\n",
              "    </tr>\n",
              "  </tbody>\n",
              "</table>\n",
              "<p>5561642 rows × 7 columns</p>\n",
              "</div>"
            ],
            "text/plain": [
              "              g_x       g_y       g_z       a_x       a_y       a_z  label\n",
              "0        1.196273 -1.081498  1.421736 -0.073822 -1.294081  0.425378      6\n",
              "1        0.395422 -0.997478  0.547428  0.546037 -0.524955 -1.332338      6\n",
              "2        0.377894  0.056450  0.315224 -0.603559  1.311507 -1.984427      6\n",
              "3        1.654736 -0.048575  0.936797 -0.858995  3.198385 -1.394055      6\n",
              "4        0.961782 -1.176546  1.225371 -0.884146  4.978352 -1.363603      6\n",
              "...           ...       ...       ...       ...       ...       ...    ...\n",
              "5561637  0.042518 -1.711649  0.272666 -0.014613 -0.025448 -0.020896      4\n",
              "5561638  0.115358 -1.928526  0.314478 -0.014613 -0.025448 -0.020896      4\n",
              "5561639 -0.130428 -1.877064  0.311491 -0.014613 -0.025448 -0.020896      4\n",
              "5561640 -0.023700 -1.652310  0.274533 -0.014613 -0.025448 -0.020896      4\n",
              "5561641  0.047582 -1.767313  0.308131 -0.014613 -0.025448 -0.020896      4\n",
              "\n",
              "[5561642 rows x 7 columns]"
            ]
          },
          "metadata": {
            "tags": []
          }
        }
      ]
    },
    {
      "cell_type": "markdown",
      "metadata": {
        "id": "qCvT_zJdoxVm"
      },
      "source": [
        "# Prepare the Data Frames\n"
      ]
    },
    {
      "cell_type": "code",
      "metadata": {
        "id": "vbZtQs6jo3Vl"
      },
      "source": [
        "def get_frames(df, frame_size, hop_size):\n",
        "\n",
        "    N_FEATURES = df.iloc[:, :-1].shape[1]\n",
        "    frames, labels = [], []\n",
        "\n",
        "    for i in range(0, df.shape[0] - frame_size, hop_size):\n",
        "        x = df['a_x'].values[i: i + frame_size]\n",
        "        y = df['a_y'].values[i: i + frame_size]\n",
        "        z = df['a_z'].values[i: i + frame_size]\n",
        "\n",
        "        gx = df['g_x'].values[i: i + frame_size]\n",
        "        gy = df['g_y'].values[i: i + frame_size]\n",
        "        gz = df['g_z'].values[i: i + frame_size]\n",
        "\n",
        "        # Retrieve the most often used label in this segment\n",
        "        label = stats.mode(df['label'][i: i + frame_size])[0][0]\n",
        "        frames.append([x, y, z, gx, gy, gz])\n",
        "        labels.append(label)\n",
        "        \n",
        "    # Bring the segments into a better shape\n",
        "    frames = np.asarray(frames).reshape(-1, frame_size, N_FEATURES)\n",
        "\n",
        "    labels = np.asarray(labels)\n",
        "    return frames, labels"
      ],
      "execution_count": null,
      "outputs": []
    },
    {
      "cell_type": "code",
      "metadata": {
        "id": "skRwehG1QkjV",
        "colab": {
          "base_uri": "https://localhost:8080/"
        },
        "outputId": "fde27b8c-ca07-4592-a3b4-867b8852ac40"
      },
      "source": [
        "X, y = get_frames(df, frame_size, hop_size)\n",
        "X_train, X_test, y_train, y_test = train_test_split(X, y, test_size=0.2, \n",
        "                                                    random_state=0, \n",
        "                                                    stratify=y)\n",
        "print('X train shape', X_train.shape)    \n",
        "print('y train shape', y_train.shape)\n",
        "print('X test shape', X_test.shape)    \n",
        "print('y test shape', y_test.shape)"
      ],
      "execution_count": null,
      "outputs": [
        {
          "output_type": "stream",
          "text": [
            "X train shape (55616, 80, 6)\n",
            "y train shape (55616,)\n",
            "X test shape (13904, 80, 6)\n",
            "y test shape (13904,)\n"
          ],
          "name": "stdout"
        }
      ]
    },
    {
      "cell_type": "markdown",
      "metadata": {
        "id": "KAOHUeZTpL4p"
      },
      "source": [
        "# Run Model"
      ]
    },
    {
      "cell_type": "code",
      "metadata": {
        "id": "VEj__JC_pRAE",
        "colab": {
          "base_uri": "https://localhost:8080/"
        },
        "outputId": "a12bbb57-d274-4ba4-ce79-01ecde8d7fe2"
      },
      "source": [
        "num_classes = len(classes)\n",
        "model = Sequential([\n",
        "    InputLayer(input_shape=X_train[0].shape),\n",
        "    GRU(20, return_sequences=True),\n",
        "    GRU(20, return_sequences=True),\n",
        "    GRU(20, return_sequences=True),\n",
        "    GRU(20),\n",
        "    Dense(num_classes, activation='softmax')\n",
        "])\n",
        "model.compile(optimizer=Adam(learning_rate=0.001), loss='sparse_categorical_crossentropy', \n",
        "              metrics=['accuracy'])\n",
        "model.summary()"
      ],
      "execution_count": null,
      "outputs": [
        {
          "output_type": "stream",
          "text": [
            "Model: \"sequential\"\n",
            "_________________________________________________________________\n",
            "Layer (type)                 Output Shape              Param #   \n",
            "=================================================================\n",
            "gru (GRU)                    (None, 80, 20)            1680      \n",
            "_________________________________________________________________\n",
            "gru_1 (GRU)                  (None, 80, 20)            2520      \n",
            "_________________________________________________________________\n",
            "gru_2 (GRU)                  (None, 80, 20)            2520      \n",
            "_________________________________________________________________\n",
            "gru_3 (GRU)                  (None, 20)                2520      \n",
            "_________________________________________________________________\n",
            "dense (Dense)                (None, 7)                 147       \n",
            "=================================================================\n",
            "Total params: 9,387\n",
            "Trainable params: 9,387\n",
            "Non-trainable params: 0\n",
            "_________________________________________________________________\n"
          ],
          "name": "stdout"
        }
      ]
    },
    {
      "cell_type": "code",
      "metadata": {
        "colab": {
          "base_uri": "https://localhost:8080/"
        },
        "id": "AoYRgi_LFzq8",
        "outputId": "9c4df93d-ca92-4b89-c76b-8f82a4a91792"
      },
      "source": [
        "checkpoint = ModelCheckpoint(model_name, save_best_only=True)\n",
        "early_stop = EarlyStopping(patience=5, restore_best_weights=True)\n",
        "history = model.fit(X_train, y_train, epochs=100, validation_split=0.1, \n",
        "                    callbacks=[checkpoint, early_stop])"
      ],
      "execution_count": null,
      "outputs": [
        {
          "output_type": "stream",
          "text": [
            "Epoch 1/100\n",
            "1565/1565 [==============================] - 214s 133ms/step - loss: 0.7293 - accuracy: 0.7566 - val_loss: 0.5426 - val_accuracy: 0.8130\n",
            "Epoch 2/100\n",
            "1565/1565 [==============================] - 203s 130ms/step - loss: 0.4818 - accuracy: 0.8352 - val_loss: 0.4621 - val_accuracy: 0.8385\n",
            "Epoch 3/100\n",
            "1565/1565 [==============================] - 205s 131ms/step - loss: 0.4239 - accuracy: 0.8586 - val_loss: 0.4125 - val_accuracy: 0.8590\n",
            "Epoch 4/100\n",
            "1565/1565 [==============================] - 205s 131ms/step - loss: 0.3874 - accuracy: 0.8697 - val_loss: 0.3935 - val_accuracy: 0.8655\n",
            "Epoch 5/100\n",
            "1565/1565 [==============================] - 206s 132ms/step - loss: 0.3709 - accuracy: 0.8757 - val_loss: 0.3745 - val_accuracy: 0.8776\n",
            "Epoch 6/100\n",
            "1565/1565 [==============================] - 206s 132ms/step - loss: 0.3526 - accuracy: 0.8823 - val_loss: 0.3564 - val_accuracy: 0.8849\n",
            "Epoch 7/100\n",
            "1565/1565 [==============================] - 206s 131ms/step - loss: 0.3367 - accuracy: 0.8877 - val_loss: 0.3424 - val_accuracy: 0.8808\n",
            "Epoch 8/100\n",
            "1565/1565 [==============================] - 206s 132ms/step - loss: 0.3324 - accuracy: 0.8892 - val_loss: 0.3392 - val_accuracy: 0.8914\n",
            "Epoch 9/100\n",
            "1565/1565 [==============================] - 205s 131ms/step - loss: 0.3122 - accuracy: 0.8945 - val_loss: 0.3269 - val_accuracy: 0.8925\n",
            "Epoch 10/100\n",
            "1565/1565 [==============================] - 205s 131ms/step - loss: 0.3012 - accuracy: 0.8978 - val_loss: 0.3100 - val_accuracy: 0.8937\n",
            "Epoch 11/100\n",
            "1565/1565 [==============================] - 206s 132ms/step - loss: 0.2929 - accuracy: 0.9001 - val_loss: 0.3149 - val_accuracy: 0.8979\n",
            "Epoch 12/100\n",
            "1565/1565 [==============================] - 205s 131ms/step - loss: 0.2875 - accuracy: 0.9009 - val_loss: 0.3145 - val_accuracy: 0.8939\n",
            "Epoch 13/100\n",
            "1565/1565 [==============================] - 205s 131ms/step - loss: 0.2769 - accuracy: 0.9054 - val_loss: 0.3050 - val_accuracy: 0.9029\n",
            "Epoch 14/100\n",
            "1565/1565 [==============================] - 204s 131ms/step - loss: 0.2745 - accuracy: 0.9063 - val_loss: 0.2941 - val_accuracy: 0.9035\n",
            "Epoch 15/100\n",
            "1565/1565 [==============================] - 203s 130ms/step - loss: 0.2652 - accuracy: 0.9100 - val_loss: 0.2865 - val_accuracy: 0.9054\n",
            "Epoch 16/100\n",
            "1565/1565 [==============================] - 203s 130ms/step - loss: 0.2651 - accuracy: 0.9103 - val_loss: 0.2805 - val_accuracy: 0.9078\n",
            "Epoch 17/100\n",
            "1565/1565 [==============================] - 203s 130ms/step - loss: 0.2545 - accuracy: 0.9140 - val_loss: 0.2692 - val_accuracy: 0.9097\n",
            "Epoch 18/100\n",
            "1565/1565 [==============================] - 203s 130ms/step - loss: 0.2452 - accuracy: 0.9163 - val_loss: 0.2742 - val_accuracy: 0.9130\n",
            "Epoch 19/100\n",
            "1565/1565 [==============================] - 203s 130ms/step - loss: 0.2383 - accuracy: 0.9183 - val_loss: 0.2613 - val_accuracy: 0.9133\n",
            "Epoch 20/100\n",
            "1565/1565 [==============================] - 204s 130ms/step - loss: 0.2423 - accuracy: 0.9171 - val_loss: 0.2602 - val_accuracy: 0.9153\n",
            "Epoch 21/100\n",
            "1565/1565 [==============================] - 204s 130ms/step - loss: 0.2291 - accuracy: 0.9225 - val_loss: 0.2478 - val_accuracy: 0.9184\n",
            "Epoch 22/100\n",
            "1565/1565 [==============================] - 203s 130ms/step - loss: 0.2305 - accuracy: 0.9218 - val_loss: 0.2544 - val_accuracy: 0.9177\n",
            "Epoch 23/100\n",
            "1565/1565 [==============================] - 204s 130ms/step - loss: 0.2239 - accuracy: 0.9237 - val_loss: 0.2507 - val_accuracy: 0.9168\n",
            "Epoch 24/100\n",
            "1565/1565 [==============================] - 204s 130ms/step - loss: 0.2208 - accuracy: 0.9250 - val_loss: 0.2599 - val_accuracy: 0.9177\n",
            "Epoch 25/100\n",
            "1565/1565 [==============================] - 205s 131ms/step - loss: 0.2167 - accuracy: 0.9265 - val_loss: 0.2394 - val_accuracy: 0.9173\n",
            "Epoch 26/100\n",
            "1565/1565 [==============================] - 204s 130ms/step - loss: 0.2148 - accuracy: 0.9264 - val_loss: 0.2394 - val_accuracy: 0.9239\n",
            "Epoch 27/100\n",
            "1565/1565 [==============================] - 204s 131ms/step - loss: 0.2097 - accuracy: 0.9290 - val_loss: 0.2689 - val_accuracy: 0.9114\n",
            "Epoch 28/100\n",
            "1565/1565 [==============================] - 205s 131ms/step - loss: 0.2076 - accuracy: 0.9291 - val_loss: 0.2381 - val_accuracy: 0.9214\n",
            "Epoch 29/100\n",
            "1565/1565 [==============================] - 205s 131ms/step - loss: 0.2097 - accuracy: 0.9284 - val_loss: 0.2570 - val_accuracy: 0.9137\n",
            "Epoch 30/100\n",
            "1565/1565 [==============================] - 203s 130ms/step - loss: 0.2019 - accuracy: 0.9306 - val_loss: 0.2341 - val_accuracy: 0.9245\n",
            "Epoch 31/100\n",
            "1565/1565 [==============================] - 202s 129ms/step - loss: 0.2020 - accuracy: 0.9308 - val_loss: 0.2453 - val_accuracy: 0.9182\n",
            "Epoch 32/100\n",
            "1565/1565 [==============================] - 203s 130ms/step - loss: 0.1951 - accuracy: 0.9325 - val_loss: 0.2400 - val_accuracy: 0.9213\n",
            "Epoch 33/100\n",
            "1565/1565 [==============================] - 203s 130ms/step - loss: 0.1938 - accuracy: 0.9324 - val_loss: 0.2396 - val_accuracy: 0.9234\n",
            "Epoch 34/100\n",
            "1565/1565 [==============================] - 202s 129ms/step - loss: 0.1918 - accuracy: 0.9334 - val_loss: 0.2297 - val_accuracy: 0.9247\n",
            "Epoch 35/100\n",
            "1565/1565 [==============================] - 203s 129ms/step - loss: 0.1908 - accuracy: 0.9349 - val_loss: 0.2327 - val_accuracy: 0.9236\n",
            "Epoch 36/100\n",
            "1565/1565 [==============================] - 203s 130ms/step - loss: 0.1910 - accuracy: 0.9348 - val_loss: 0.2355 - val_accuracy: 0.9252\n",
            "Epoch 37/100\n",
            "1565/1565 [==============================] - 202s 129ms/step - loss: 0.1861 - accuracy: 0.9358 - val_loss: 0.2473 - val_accuracy: 0.9184\n",
            "Epoch 38/100\n",
            "1565/1565 [==============================] - 202s 129ms/step - loss: 0.1888 - accuracy: 0.9361 - val_loss: 0.2235 - val_accuracy: 0.9293\n",
            "Epoch 39/100\n",
            "1565/1565 [==============================] - 202s 129ms/step - loss: 0.1811 - accuracy: 0.9375 - val_loss: 0.2431 - val_accuracy: 0.9207\n",
            "Epoch 40/100\n",
            "1565/1565 [==============================] - 203s 130ms/step - loss: 0.1810 - accuracy: 0.9377 - val_loss: 0.2344 - val_accuracy: 0.9265\n",
            "Epoch 41/100\n",
            "1565/1565 [==============================] - 205s 131ms/step - loss: 0.1801 - accuracy: 0.9374 - val_loss: 0.2292 - val_accuracy: 0.9268\n",
            "Epoch 42/100\n",
            "1565/1565 [==============================] - 204s 130ms/step - loss: 0.1764 - accuracy: 0.9386 - val_loss: 0.2280 - val_accuracy: 0.9236\n",
            "Epoch 43/100\n",
            "1565/1565 [==============================] - 205s 131ms/step - loss: 0.1785 - accuracy: 0.9385 - val_loss: 0.2380 - val_accuracy: 0.9247\n"
          ],
          "name": "stdout"
        }
      ]
    },
    {
      "cell_type": "markdown",
      "metadata": {
        "id": "jjqO8rmN32t-"
      },
      "source": [
        "# Model Loss and Accuracy"
      ]
    },
    {
      "cell_type": "code",
      "metadata": {
        "id": "gXiP5rbZNXkO"
      },
      "source": [
        "def plot_stats(history, epochs):\n",
        "    acc = history.history['accuracy']\n",
        "    val_acc = history.history['val_accuracy']\n",
        "\n",
        "    loss = history.history['loss']\n",
        "    val_loss = history.history['val_loss']\n",
        "\n",
        "    epochs_range = range(epochs)\n",
        "\n",
        "    plt.figure(figsize=(8, 8))\n",
        "    plt.subplot(1, 2, 1)\n",
        "    plt.plot(epochs_range, acc, label='Training Accuracy')\n",
        "    plt.plot(epochs_range, val_acc, label='Validation Accuracy')\n",
        "    plt.legend(loc='lower right')\n",
        "    plt.title('Training and Validation Accuracy')\n",
        "\n",
        "    plt.subplot(1, 2, 2)\n",
        "    plt.plot(epochs_range, loss, label='Training Loss')\n",
        "    plt.plot(epochs_range, val_loss, label='Validation Loss')\n",
        "    plt.legend(loc='upper right')\n",
        "    plt.title('Training and Validation Loss')\n",
        "    plt.show()"
      ],
      "execution_count": null,
      "outputs": []
    },
    {
      "cell_type": "code",
      "metadata": {
        "id": "TbqNJLdeNWs7",
        "colab": {
          "base_uri": "https://localhost:8080/",
          "height": 533
        },
        "outputId": "5e588fae-bbad-48d7-adfe-c0a41f2d8c74"
      },
      "source": [
        "# rollback to the best model\n",
        "plot_stats(history, early_stop.stopped_epoch+1)\n",
        "model = keras.models.load_model(model_name)\n",
        "loss, acc = model.evaluate(X_test, y_test)\n",
        "print(\"Test Accuracy: %.3f\" % acc)"
      ],
      "execution_count": null,
      "outputs": [
        {
          "output_type": "display_data",
          "data": {
            "image/png": "[encoded data removed]",
            "text/plain": [
              "<Figure size 576x576 with 2 Axes>"
            ]
          },
          "metadata": {
            "tags": [],
            "needs_background": "light"
          }
        },
        {
          "output_type": "stream",
          "text": [
            "435/435 [==============================] - 25s 24ms/step - loss: 0.2266 - accuracy: 0.9245\n",
            "Test Accuracy: 0.924\n"
          ],
          "name": "stdout"
        }
      ]
    },
    {
      "cell_type": "markdown",
      "metadata": {
        "id": "z3tFInQSpebY"
      },
      "source": [
        "# Confusion Matrix"
      ]
    },
    {
      "cell_type": "code",
      "metadata": {
        "id": "bVDfglVOpodH",
        "colab": {
          "base_uri": "https://localhost:8080/",
          "height": 500
        },
        "outputId": "15f22d4a-6da3-4e8a-f4e2-1e20e90d2de9"
      },
      "source": [
        "y_pred = np.argmax(model.predict(X_test), axis=-1)\n",
        "mat = confusion_matrix(y_test, y_pred)\n",
        "plot_confusion_matrix(conf_mat=mat, class_names=classes, show_normed=True, figsize=(7,7))"
      ],
      "execution_count": null,
      "outputs": [
        {
          "output_type": "execute_result",
          "data": {
            "text/plain": [
              "(<Figure size 504x504 with 1 Axes>,\n",
              " <matplotlib.axes._subplots.AxesSubplot at 0x7f173feba110>)"
            ]
          },
          "metadata": {
            "tags": []
          },
          "execution_count": 11
        },
        {
          "output_type": "display_data",
          "data": {
            "image/png": "[encoded data removed]",
            "text/plain": [
              "<Figure size 504x504 with 1 Axes>"
            ]
          },
          "metadata": {
            "tags": [],
            "needs_background": "light"
          }
        }
      ]
    },
    {
      "cell_type": "markdown",
      "metadata": {
        "id": "zJ0Gvbjbi5kV"
      },
      "source": [
        "# Save the Model"
      ]
    },
    {
      "cell_type": "code",
      "metadata": {
        "id": "uQyyoCNZps9d"
      },
      "source": [
        "model.save(f'/content/drive/MyDrive/Smart Dog Collar/Models/{model_name}')"
      ],
      "execution_count": null,
      "outputs": []
    }
  ]
}