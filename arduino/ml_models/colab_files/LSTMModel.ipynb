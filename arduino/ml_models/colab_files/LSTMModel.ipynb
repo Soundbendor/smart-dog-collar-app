{
  "nbformat": 4,
  "nbformat_minor": 0,
  "metadata": {
    "kernelspec": {
      "display_name": "Python 3",
      "language": "python",
      "name": "python3"
    },
    "language_info": {
      "codemirror_mode": {
        "name": "ipython",
        "version": 3
      },
      "file_extension": ".py",
      "mimetype": "text/x-python",
      "name": "python",
      "nbconvert_exporter": "python",
      "pygments_lexer": "ipython3",
      "version": "3.7.2"
    },
    "colab": {
      "provenance": [],
      "collapsed_sections": [
        "glCUMC8ooWOd"
      ]
    }
  },
  "cells": [
    {
      "cell_type": "markdown",
      "metadata": {
        "id": "d9Scj9yt0TbT"
      },
      "source": [
        "# Connect to Google Drive"
      ]
    },
    {
      "cell_type": "markdown",
      "metadata": {
        "id": "d8dG426WnCLX"
      },
      "source": [
        "reference: https://kgptalkie.com/human-activity-recognition-using-accelerometer-data/\n",
        "\n",
        "Archived: https://web.archive.org/web/20210118012346/https://kgptalkie.com/human-activity-recognition-using-accelerometer-data/"
      ]
    },
    {
      "cell_type": "code",
      "metadata": {
        "colab": {
          "base_uri": "https://localhost:8080/"
        },
        "id": "NcCBLl-n3Q2z",
        "outputId": "52c8c951-2cf1-49a2-b673-d6113a1e4421"
      },
      "source": [
        "from google.colab import drive\n",
        "drive.mount('/content/drive', force_remount=True)"
      ],
      "execution_count": null,
      "outputs": [
        {
          "output_type": "stream",
          "text": [
            "Mounted at /content/drive\n"
          ],
          "name": "stdout"
        }
      ]
    },
    {
      "cell_type": "markdown",
      "metadata": {
        "id": "gDt_5CgSL6On"
      },
      "source": [
        "# Imports"
      ]
    },
    {
      "cell_type": "code",
      "metadata": {
        "id": "0ORU9P82lm_1",
        "colab": {
          "base_uri": "https://localhost:8080/"
        },
        "outputId": "316d0c45-43ce-4b89-ab74-569c780c526f"
      },
      "source": [
        "import tensorflow as tf\n",
        "from tensorflow.keras import Sequential\n",
        "from tensorflow.keras.layers import Flatten, Dense, Dropout, BatchNormalization, InputLayer\n",
        "from tensorflow.keras.layers import SimpleRNN, LSTM\n",
        "from tensorflow.keras.optimizers import Adam\n",
        "from tensorflow.keras.callbacks import ModelCheckpoint, EarlyStopping\n",
        "import keras\n",
        "import tensorflow.keras\n",
        "from sklearn.model_selection import train_test_split\n",
        "import pandas as pd\n",
        "import numpy as np\n",
        "import glob\n",
        "import matplotlib.pyplot as plt\n",
        "import scipy.stats as stats\n",
        "!pip install mlxtend==0.16.0\n",
        "from mlxtend.plotting import plot_confusion_matrix\n",
        "from sklearn.metrics import confusion_matrix"
      ],
      "execution_count": null,
      "outputs": [
        {
          "output_type": "stream",
          "text": [
            "Collecting mlxtend==0.16.0\n",
            "  Downloading mlxtend-0.16.0-py2.py3-none-any.whl (1.3 MB)\n",
            "\u001b[?25l\r\u001b[K     |▎                               | 10 kB 23.6 MB/s eta 0:00:01\r\u001b[K     |▌                               | 20 kB 30.2 MB/s eta 0:00:01\r\u001b[K     |▊                               | 30 kB 24.8 MB/s eta 0:00:01\r\u001b[K     |█                               | 40 kB 19.2 MB/s eta 0:00:01\r\u001b[K     |█▎                              | 51 kB 8.3 MB/s eta 0:00:01\r\u001b[K     |█▌                              | 61 kB 9.1 MB/s eta 0:00:01\r\u001b[K     |█▊                              | 71 kB 7.5 MB/s eta 0:00:01\r\u001b[K     |██                              | 81 kB 8.4 MB/s eta 0:00:01\r\u001b[K     |██▎                             | 92 kB 7.1 MB/s eta 0:00:01\r\u001b[K     |██▌                             | 102 kB 7.6 MB/s eta 0:00:01\r\u001b[K     |██▊                             | 112 kB 7.6 MB/s eta 0:00:01\r\u001b[K     |███                             | 122 kB 7.6 MB/s eta 0:00:01\r\u001b[K     |███▎                            | 133 kB 7.6 MB/s eta 0:00:01\r\u001b[K     |███▌                            | 143 kB 7.6 MB/s eta 0:00:01\r\u001b[K     |███▊                            | 153 kB 7.6 MB/s eta 0:00:01\r\u001b[K     |████                            | 163 kB 7.6 MB/s eta 0:00:01\r\u001b[K     |████▎                           | 174 kB 7.6 MB/s eta 0:00:01\r\u001b[K     |████▌                           | 184 kB 7.6 MB/s eta 0:00:01\r\u001b[K     |████▊                           | 194 kB 7.6 MB/s eta 0:00:01\r\u001b[K     |█████                           | 204 kB 7.6 MB/s eta 0:00:01\r\u001b[K     |█████▎                          | 215 kB 7.6 MB/s eta 0:00:01\r\u001b[K     |█████▌                          | 225 kB 7.6 MB/s eta 0:00:01\r\u001b[K     |█████▊                          | 235 kB 7.6 MB/s eta 0:00:01\r\u001b[K     |██████                          | 245 kB 7.6 MB/s eta 0:00:01\r\u001b[K     |██████▎                         | 256 kB 7.6 MB/s eta 0:00:01\r\u001b[K     |██████▌                         | 266 kB 7.6 MB/s eta 0:00:01\r\u001b[K     |██████▊                         | 276 kB 7.6 MB/s eta 0:00:01\r\u001b[K     |███████                         | 286 kB 7.6 MB/s eta 0:00:01\r\u001b[K     |███████▎                        | 296 kB 7.6 MB/s eta 0:00:01\r\u001b[K     |███████▌                        | 307 kB 7.6 MB/s eta 0:00:01\r\u001b[K     |███████▊                        | 317 kB 7.6 MB/s eta 0:00:01\r\u001b[K     |████████                        | 327 kB 7.6 MB/s eta 0:00:01\r\u001b[K     |████████▎                       | 337 kB 7.6 MB/s eta 0:00:01\r\u001b[K     |████████▌                       | 348 kB 7.6 MB/s eta 0:00:01\r\u001b[K     |████████▊                       | 358 kB 7.6 MB/s eta 0:00:01\r\u001b[K     |█████████                       | 368 kB 7.6 MB/s eta 0:00:01\r\u001b[K     |█████████▏                      | 378 kB 7.6 MB/s eta 0:00:01\r\u001b[K     |█████████▌                      | 389 kB 7.6 MB/s eta 0:00:01\r\u001b[K     |█████████▊                      | 399 kB 7.6 MB/s eta 0:00:01\r\u001b[K     |██████████                      | 409 kB 7.6 MB/s eta 0:00:01\r\u001b[K     |██████████▏                     | 419 kB 7.6 MB/s eta 0:00:01\r\u001b[K     |██████████▌                     | 430 kB 7.6 MB/s eta 0:00:01\r\u001b[K     |██████████▊                     | 440 kB 7.6 MB/s eta 0:00:01\r\u001b[K     |███████████                     | 450 kB 7.6 MB/s eta 0:00:01\r\u001b[K     |███████████▏                    | 460 kB 7.6 MB/s eta 0:00:01\r\u001b[K     |███████████▌                    | 471 kB 7.6 MB/s eta 0:00:01\r\u001b[K     |███████████▊                    | 481 kB 7.6 MB/s eta 0:00:01\r\u001b[K     |████████████                    | 491 kB 7.6 MB/s eta 0:00:01\r\u001b[K     |████████████▏                   | 501 kB 7.6 MB/s eta 0:00:01\r\u001b[K     |████████████▌                   | 512 kB 7.6 MB/s eta 0:00:01\r\u001b[K     |████████████▊                   | 522 kB 7.6 MB/s eta 0:00:01\r\u001b[K     |█████████████                   | 532 kB 7.6 MB/s eta 0:00:01\r\u001b[K     |█████████████▏                  | 542 kB 7.6 MB/s eta 0:00:01\r\u001b[K     |█████████████▌                  | 552 kB 7.6 MB/s eta 0:00:01\r\u001b[K     |█████████████▊                  | 563 kB 7.6 MB/s eta 0:00:01\r\u001b[K     |██████████████                  | 573 kB 7.6 MB/s eta 0:00:01\r\u001b[K     |██████████████▏                 | 583 kB 7.6 MB/s eta 0:00:01\r\u001b[K     |██████████████▌                 | 593 kB 7.6 MB/s eta 0:00:01\r\u001b[K     |██████████████▊                 | 604 kB 7.6 MB/s eta 0:00:01\r\u001b[K     |███████████████                 | 614 kB 7.6 MB/s eta 0:00:01\r\u001b[K     |███████████████▏                | 624 kB 7.6 MB/s eta 0:00:01\r\u001b[K     |███████████████▌                | 634 kB 7.6 MB/s eta 0:00:01\r\u001b[K     |███████████████▊                | 645 kB 7.6 MB/s eta 0:00:01\r\u001b[K     |████████████████                | 655 kB 7.6 MB/s eta 0:00:01\r\u001b[K     |████████████████▏               | 665 kB 7.6 MB/s eta 0:00:01\r\u001b[K     |████████████████▌               | 675 kB 7.6 MB/s eta 0:00:01\r\u001b[K     |████████████████▊               | 686 kB 7.6 MB/s eta 0:00:01\r\u001b[K     |█████████████████               | 696 kB 7.6 MB/s eta 0:00:01\r\u001b[K     |█████████████████▏              | 706 kB 7.6 MB/s eta 0:00:01\r\u001b[K     |█████████████████▍              | 716 kB 7.6 MB/s eta 0:00:01\r\u001b[K     |█████████████████▊              | 727 kB 7.6 MB/s eta 0:00:01\r\u001b[K     |██████████████████              | 737 kB 7.6 MB/s eta 0:00:01\r\u001b[K     |██████████████████▏             | 747 kB 7.6 MB/s eta 0:00:01\r\u001b[K     |██████████████████▍             | 757 kB 7.6 MB/s eta 0:00:01\r\u001b[K     |██████████████████▊             | 768 kB 7.6 MB/s eta 0:00:01\r\u001b[K     |███████████████████             | 778 kB 7.6 MB/s eta 0:00:01\r\u001b[K     |███████████████████▏            | 788 kB 7.6 MB/s eta 0:00:01\r\u001b[K     |███████████████████▍            | 798 kB 7.6 MB/s eta 0:00:01\r\u001b[K     |███████████████████▊            | 808 kB 7.6 MB/s eta 0:00:01\r\u001b[K     |████████████████████            | 819 kB 7.6 MB/s eta 0:00:01\r\u001b[K     |████████████████████▏           | 829 kB 7.6 MB/s eta 0:00:01\r\u001b[K     |████████████████████▍           | 839 kB 7.6 MB/s eta 0:00:01\r\u001b[K     |████████████████████▊           | 849 kB 7.6 MB/s eta 0:00:01\r\u001b[K     |█████████████████████           | 860 kB 7.6 MB/s eta 0:00:01\r\u001b[K     |█████████████████████▏          | 870 kB 7.6 MB/s eta 0:00:01\r\u001b[K     |█████████████████████▍          | 880 kB 7.6 MB/s eta 0:00:01\r\u001b[K     |█████████████████████▊          | 890 kB 7.6 MB/s eta 0:00:01\r\u001b[K     |██████████████████████          | 901 kB 7.6 MB/s eta 0:00:01\r\u001b[K     |██████████████████████▏         | 911 kB 7.6 MB/s eta 0:00:01\r\u001b[K     |██████████████████████▍         | 921 kB 7.6 MB/s eta 0:00:01\r\u001b[K     |██████████████████████▊         | 931 kB 7.6 MB/s eta 0:00:01\r\u001b[K     |███████████████████████         | 942 kB 7.6 MB/s eta 0:00:01\r\u001b[K     |███████████████████████▏        | 952 kB 7.6 MB/s eta 0:00:01\r\u001b[K     |███████████████████████▍        | 962 kB 7.6 MB/s eta 0:00:01\r\u001b[K     |███████████████████████▊        | 972 kB 7.6 MB/s eta 0:00:01\r\u001b[K     |████████████████████████        | 983 kB 7.6 MB/s eta 0:00:01\r\u001b[K     |████████████████████████▏       | 993 kB 7.6 MB/s eta 0:00:01\r\u001b[K     |████████████████████████▍       | 1.0 MB 7.6 MB/s eta 0:00:01\r\u001b[K     |████████████████████████▊       | 1.0 MB 7.6 MB/s eta 0:00:01\r\u001b[K     |█████████████████████████       | 1.0 MB 7.6 MB/s eta 0:00:01\r\u001b[K     |█████████████████████████▏      | 1.0 MB 7.6 MB/s eta 0:00:01\r\u001b[K     |█████████████████████████▍      | 1.0 MB 7.6 MB/s eta 0:00:01\r\u001b[K     |█████████████████████████▋      | 1.1 MB 7.6 MB/s eta 0:00:01\r\u001b[K     |██████████████████████████      | 1.1 MB 7.6 MB/s eta 0:00:01\r\u001b[K     |██████████████████████████▏     | 1.1 MB 7.6 MB/s eta 0:00:01\r\u001b[K     |██████████████████████████▍     | 1.1 MB 7.6 MB/s eta 0:00:01\r\u001b[K     |██████████████████████████▋     | 1.1 MB 7.6 MB/s eta 0:00:01\r\u001b[K     |███████████████████████████     | 1.1 MB 7.6 MB/s eta 0:00:01\r\u001b[K     |███████████████████████████▏    | 1.1 MB 7.6 MB/s eta 0:00:01\r\u001b[K     |███████████████████████████▍    | 1.1 MB 7.6 MB/s eta 0:00:01\r\u001b[K     |███████████████████████████▋    | 1.1 MB 7.6 MB/s eta 0:00:01\r\u001b[K     |████████████████████████████    | 1.1 MB 7.6 MB/s eta 0:00:01\r\u001b[K     |████████████████████████████▏   | 1.2 MB 7.6 MB/s eta 0:00:01\r\u001b[K     |████████████████████████████▍   | 1.2 MB 7.6 MB/s eta 0:00:01\r\u001b[K     |████████████████████████████▋   | 1.2 MB 7.6 MB/s eta 0:00:01\r\u001b[K     |█████████████████████████████   | 1.2 MB 7.6 MB/s eta 0:00:01\r\u001b[K     |█████████████████████████████▏  | 1.2 MB 7.6 MB/s eta 0:00:01\r\u001b[K     |█████████████████████████████▍  | 1.2 MB 7.6 MB/s eta 0:00:01\r\u001b[K     |█████████████████████████████▋  | 1.2 MB 7.6 MB/s eta 0:00:01\r\u001b[K     |██████████████████████████████  | 1.2 MB 7.6 MB/s eta 0:00:01\r\u001b[K     |██████████████████████████████▏ | 1.2 MB 7.6 MB/s eta 0:00:01\r\u001b[K     |██████████████████████████████▍ | 1.2 MB 7.6 MB/s eta 0:00:01\r\u001b[K     |██████████████████████████████▋ | 1.3 MB 7.6 MB/s eta 0:00:01\r\u001b[K     |███████████████████████████████ | 1.3 MB 7.6 MB/s eta 0:00:01\r\u001b[K     |███████████████████████████████▏| 1.3 MB 7.6 MB/s eta 0:00:01\r\u001b[K     |███████████████████████████████▍| 1.3 MB 7.6 MB/s eta 0:00:01\r\u001b[K     |███████████████████████████████▋| 1.3 MB 7.6 MB/s eta 0:00:01\r\u001b[K     |████████████████████████████████| 1.3 MB 7.6 MB/s eta 0:00:01\r\u001b[K     |████████████████████████████████| 1.3 MB 7.6 MB/s \n",
            "\u001b[?25hRequirement already satisfied: scikit-learn>=0.18 in /usr/local/lib/python3.7/dist-packages (from mlxtend==0.16.0) (0.22.2.post1)\n",
            "Requirement already satisfied: numpy>=1.10.4 in /usr/local/lib/python3.7/dist-packages (from mlxtend==0.16.0) (1.19.5)\n",
            "Requirement already satisfied: setuptools in /usr/local/lib/python3.7/dist-packages (from mlxtend==0.16.0) (57.2.0)\n",
            "Requirement already satisfied: matplotlib>=1.5.1 in /usr/local/lib/python3.7/dist-packages (from mlxtend==0.16.0) (3.2.2)\n",
            "Requirement already satisfied: scipy>=0.17 in /usr/local/lib/python3.7/dist-packages (from mlxtend==0.16.0) (1.4.1)\n",
            "Requirement already satisfied: pandas>=0.17.1 in /usr/local/lib/python3.7/dist-packages (from mlxtend==0.16.0) (1.1.5)\n",
            "Requirement already satisfied: python-dateutil>=2.1 in /usr/local/lib/python3.7/dist-packages (from matplotlib>=1.5.1->mlxtend==0.16.0) (2.8.1)\n",
            "Requirement already satisfied: cycler>=0.10 in /usr/local/lib/python3.7/dist-packages (from matplotlib>=1.5.1->mlxtend==0.16.0) (0.10.0)\n",
            "Requirement already satisfied: kiwisolver>=1.0.1 in /usr/local/lib/python3.7/dist-packages (from matplotlib>=1.5.1->mlxtend==0.16.0) (1.3.1)\n",
            "Requirement already satisfied: pyparsing!=2.0.4,!=2.1.2,!=2.1.6,>=2.0.1 in /usr/local/lib/python3.7/dist-packages (from matplotlib>=1.5.1->mlxtend==0.16.0) (2.4.7)\n",
            "Requirement already satisfied: six in /usr/local/lib/python3.7/dist-packages (from cycler>=0.10->matplotlib>=1.5.1->mlxtend==0.16.0) (1.15.0)\n",
            "Requirement already satisfied: pytz>=2017.2 in /usr/local/lib/python3.7/dist-packages (from pandas>=0.17.1->mlxtend==0.16.0) (2018.9)\n",
            "Requirement already satisfied: joblib>=0.11 in /usr/local/lib/python3.7/dist-packages (from scikit-learn>=0.18->mlxtend==0.16.0) (1.0.1)\n",
            "Installing collected packages: mlxtend\n",
            "  Attempting uninstall: mlxtend\n",
            "    Found existing installation: mlxtend 0.14.0\n",
            "    Uninstalling mlxtend-0.14.0:\n",
            "      Successfully uninstalled mlxtend-0.14.0\n",
            "Successfully installed mlxtend-0.16.0\n"
          ],
          "name": "stdout"
        }
      ]
    },
    {
      "cell_type": "markdown",
      "metadata": {
        "id": "RLRWrnjW0JrE"
      },
      "source": [
        "# Set Variables for Experiment"
      ]
    },
    {
      "cell_type": "code",
      "metadata": {
        "id": "UFWvz02Bw47D"
      },
      "source": [
        "model_name = 'lstm_model.h5'\n",
        "classes = ['car', 'leisure', 'play', 'run_jog', 'seizure', 'sleep', 'walk']\n",
        "frame_seconds = 4\n",
        "hop_seconds = 4\n",
        "Fs = 20\n",
        "frame_size = Fs * frame_seconds \n",
        "hop_size = Fs * hop_seconds"
      ],
      "execution_count": null,
      "outputs": []
    },
    {
      "cell_type": "markdown",
      "metadata": {
        "id": "az8kDtbxe6Bx"
      },
      "source": [
        "# Load in Cleaned Dataset"
      ]
    },
    {
      "cell_type": "code",
      "metadata": {
        "colab": {
          "base_uri": "https://localhost:8080/",
          "height": 417
        },
        "id": "s2Axwtjwe5jI",
        "outputId": "24ee5beb-efa9-4cf8-daba-fd91c7d5a0d9"
      },
      "source": [
        "df = pd.read_csv(f'/content/drive/MyDrive/Smart Dog Collar/Data/03-31-2021_snapshot/cleaned_data.csv')\n",
        "display(df)"
      ],
      "execution_count": null,
      "outputs": [
        {
          "output_type": "display_data",
          "data": {
            "text/html": [
              "<div>\n",
              "<style scoped>\n",
              "    .dataframe tbody tr th:only-of-type {\n",
              "        vertical-align: middle;\n",
              "    }\n",
              "\n",
              "    .dataframe tbody tr th {\n",
              "        vertical-align: top;\n",
              "    }\n",
              "\n",
              "    .dataframe thead th {\n",
              "        text-align: right;\n",
              "    }\n",
              "</style>\n",
              "<table border=\"1\" class=\"dataframe\">\n",
              "  <thead>\n",
              "    <tr style=\"text-align: right;\">\n",
              "      <th></th>\n",
              "      <th>g_x</th>\n",
              "      <th>g_y</th>\n",
              "      <th>g_z</th>\n",
              "      <th>a_x</th>\n",
              "      <th>a_y</th>\n",
              "      <th>a_z</th>\n",
              "      <th>label</th>\n",
              "    </tr>\n",
              "  </thead>\n",
              "  <tbody>\n",
              "    <tr>\n",
              "      <th>0</th>\n",
              "      <td>1.196273</td>\n",
              "      <td>-1.081498</td>\n",
              "      <td>1.421736</td>\n",
              "      <td>-0.073822</td>\n",
              "      <td>-1.294081</td>\n",
              "      <td>0.425378</td>\n",
              "      <td>6</td>\n",
              "    </tr>\n",
              "    <tr>\n",
              "      <th>1</th>\n",
              "      <td>0.395422</td>\n",
              "      <td>-0.997478</td>\n",
              "      <td>0.547428</td>\n",
              "      <td>0.546037</td>\n",
              "      <td>-0.524955</td>\n",
              "      <td>-1.332338</td>\n",
              "      <td>6</td>\n",
              "    </tr>\n",
              "    <tr>\n",
              "      <th>2</th>\n",
              "      <td>0.377894</td>\n",
              "      <td>0.056450</td>\n",
              "      <td>0.315224</td>\n",
              "      <td>-0.603559</td>\n",
              "      <td>1.311507</td>\n",
              "      <td>-1.984427</td>\n",
              "      <td>6</td>\n",
              "    </tr>\n",
              "    <tr>\n",
              "      <th>3</th>\n",
              "      <td>1.654736</td>\n",
              "      <td>-0.048575</td>\n",
              "      <td>0.936797</td>\n",
              "      <td>-0.858995</td>\n",
              "      <td>3.198385</td>\n",
              "      <td>-1.394055</td>\n",
              "      <td>6</td>\n",
              "    </tr>\n",
              "    <tr>\n",
              "      <th>4</th>\n",
              "      <td>0.961782</td>\n",
              "      <td>-1.176546</td>\n",
              "      <td>1.225371</td>\n",
              "      <td>-0.884146</td>\n",
              "      <td>4.978352</td>\n",
              "      <td>-1.363603</td>\n",
              "      <td>6</td>\n",
              "    </tr>\n",
              "    <tr>\n",
              "      <th>...</th>\n",
              "      <td>...</td>\n",
              "      <td>...</td>\n",
              "      <td>...</td>\n",
              "      <td>...</td>\n",
              "      <td>...</td>\n",
              "      <td>...</td>\n",
              "      <td>...</td>\n",
              "    </tr>\n",
              "    <tr>\n",
              "      <th>5561637</th>\n",
              "      <td>0.042518</td>\n",
              "      <td>-1.711649</td>\n",
              "      <td>0.272666</td>\n",
              "      <td>-0.014613</td>\n",
              "      <td>-0.025448</td>\n",
              "      <td>-0.020896</td>\n",
              "      <td>4</td>\n",
              "    </tr>\n",
              "    <tr>\n",
              "      <th>5561638</th>\n",
              "      <td>0.115358</td>\n",
              "      <td>-1.928526</td>\n",
              "      <td>0.314478</td>\n",
              "      <td>-0.014613</td>\n",
              "      <td>-0.025448</td>\n",
              "      <td>-0.020896</td>\n",
              "      <td>4</td>\n",
              "    </tr>\n",
              "    <tr>\n",
              "      <th>5561639</th>\n",
              "      <td>-0.130428</td>\n",
              "      <td>-1.877064</td>\n",
              "      <td>0.311491</td>\n",
              "      <td>-0.014613</td>\n",
              "      <td>-0.025448</td>\n",
              "      <td>-0.020896</td>\n",
              "      <td>4</td>\n",
              "    </tr>\n",
              "    <tr>\n",
              "      <th>5561640</th>\n",
              "      <td>-0.023700</td>\n",
              "      <td>-1.652310</td>\n",
              "      <td>0.274533</td>\n",
              "      <td>-0.014613</td>\n",
              "      <td>-0.025448</td>\n",
              "      <td>-0.020896</td>\n",
              "      <td>4</td>\n",
              "    </tr>\n",
              "    <tr>\n",
              "      <th>5561641</th>\n",
              "      <td>0.047582</td>\n",
              "      <td>-1.767313</td>\n",
              "      <td>0.308131</td>\n",
              "      <td>-0.014613</td>\n",
              "      <td>-0.025448</td>\n",
              "      <td>-0.020896</td>\n",
              "      <td>4</td>\n",
              "    </tr>\n",
              "  </tbody>\n",
              "</table>\n",
              "<p>5561642 rows × 7 columns</p>\n",
              "</div>"
            ],
            "text/plain": [
              "              g_x       g_y       g_z       a_x       a_y       a_z  label\n",
              "0        1.196273 -1.081498  1.421736 -0.073822 -1.294081  0.425378      6\n",
              "1        0.395422 -0.997478  0.547428  0.546037 -0.524955 -1.332338      6\n",
              "2        0.377894  0.056450  0.315224 -0.603559  1.311507 -1.984427      6\n",
              "3        1.654736 -0.048575  0.936797 -0.858995  3.198385 -1.394055      6\n",
              "4        0.961782 -1.176546  1.225371 -0.884146  4.978352 -1.363603      6\n",
              "...           ...       ...       ...       ...       ...       ...    ...\n",
              "5561637  0.042518 -1.711649  0.272666 -0.014613 -0.025448 -0.020896      4\n",
              "5561638  0.115358 -1.928526  0.314478 -0.014613 -0.025448 -0.020896      4\n",
              "5561639 -0.130428 -1.877064  0.311491 -0.014613 -0.025448 -0.020896      4\n",
              "5561640 -0.023700 -1.652310  0.274533 -0.014613 -0.025448 -0.020896      4\n",
              "5561641  0.047582 -1.767313  0.308131 -0.014613 -0.025448 -0.020896      4\n",
              "\n",
              "[5561642 rows x 7 columns]"
            ]
          },
          "metadata": {
            "tags": []
          }
        }
      ]
    },
    {
      "cell_type": "markdown",
      "metadata": {
        "id": "qCvT_zJdoxVm"
      },
      "source": [
        "# Prepare the Data Frames\n"
      ]
    },
    {
      "cell_type": "code",
      "metadata": {
        "id": "vbZtQs6jo3Vl"
      },
      "source": [
        "def get_frames(df, frame_size, hop_size):\n",
        "\n",
        "    N_FEATURES = df.iloc[:, :-1].shape[1]\n",
        "    frames, labels = [], []\n",
        "\n",
        "    for i in range(0, df.shape[0] - frame_size, hop_size):\n",
        "        x = df['a_x'].values[i: i + frame_size]\n",
        "        y = df['a_y'].values[i: i + frame_size]\n",
        "        z = df['a_z'].values[i: i + frame_size]\n",
        "\n",
        "        gx = df['g_x'].values[i: i + frame_size]\n",
        "        gy = df['g_y'].values[i: i + frame_size]\n",
        "        gz = df['g_z'].values[i: i + frame_size]\n",
        "\n",
        "        # Retrieve the most often used label in this segment\n",
        "        label = stats.mode(df['label'][i: i + frame_size])[0][0]\n",
        "        frames.append([x, y, z, gx, gy, gz])\n",
        "        labels.append(label)\n",
        "        \n",
        "    # Bring the segments into a better shape\n",
        "    frames = np.asarray(frames).reshape(-1, frame_size, N_FEATURES)\n",
        "\n",
        "    labels = np.asarray(labels)\n",
        "    return frames, labels"
      ],
      "execution_count": null,
      "outputs": []
    },
    {
      "cell_type": "code",
      "metadata": {
        "id": "skRwehG1QkjV",
        "colab": {
          "base_uri": "https://localhost:8080/"
        },
        "outputId": "0b017d81-6221-492c-dac3-61184fb6087f"
      },
      "source": [
        "X, y = get_frames(df, frame_size, hop_size)\n",
        "X_train, X_test, y_train, y_test = train_test_split(X, y, test_size=0.2, \n",
        "                                                    random_state=0, \n",
        "                                                    stratify=y)\n",
        "print('X train shape', X_train.shape)    \n",
        "print('y train shape', y_train.shape)\n",
        "print('X test shape', X_test.shape)    \n",
        "print('y test shape', y_test.shape)"
      ],
      "execution_count": null,
      "outputs": [
        {
          "output_type": "stream",
          "text": [
            "X train shape (55616, 80, 6)\n",
            "y train shape (55616,)\n",
            "X test shape (13904, 80, 6)\n",
            "y test shape (13904,)\n"
          ],
          "name": "stdout"
        }
      ]
    },
    {
      "cell_type": "markdown",
      "metadata": {
        "id": "KAOHUeZTpL4p"
      },
      "source": [
        "# Run Model"
      ]
    },
    {
      "cell_type": "code",
      "metadata": {
        "id": "VEj__JC_pRAE",
        "colab": {
          "base_uri": "https://localhost:8080/"
        },
        "outputId": "c6497691-236d-424d-f23f-05a5666f6d7c"
      },
      "source": [
        "num_classes = len(classes)\n",
        "model = Sequential([\n",
        "    InputLayer(input_shape=X_train[0].shape),\n",
        "    LSTM(20, return_sequences=True),\n",
        "    LSTM(20, return_sequences=True),\n",
        "    LSTM(20, return_sequences=True),\n",
        "    LSTM(20),\n",
        "    Dense(num_classes, activation='softmax')\n",
        "])\n",
        "model.compile(optimizer=Adam(learning_rate=0.001), loss='sparse_categorical_crossentropy', \n",
        "              metrics=['accuracy'])\n",
        "model.summary()"
      ],
      "execution_count": null,
      "outputs": [
        {
          "output_type": "stream",
          "text": [
            "Model: \"sequential\"\n",
            "_________________________________________________________________\n",
            "Layer (type)                 Output Shape              Param #   \n",
            "=================================================================\n",
            "lstm (LSTM)                  (None, 80, 20)            2160      \n",
            "_________________________________________________________________\n",
            "lstm_1 (LSTM)                (None, 80, 20)            3280      \n",
            "_________________________________________________________________\n",
            "lstm_2 (LSTM)                (None, 80, 20)            3280      \n",
            "_________________________________________________________________\n",
            "lstm_3 (LSTM)                (None, 20)                3280      \n",
            "_________________________________________________________________\n",
            "dense (Dense)                (None, 7)                 147       \n",
            "=================================================================\n",
            "Total params: 12,147\n",
            "Trainable params: 12,147\n",
            "Non-trainable params: 0\n",
            "_________________________________________________________________\n"
          ],
          "name": "stdout"
        }
      ]
    },
    {
      "cell_type": "code",
      "metadata": {
        "colab": {
          "base_uri": "https://localhost:8080/"
        },
        "id": "AoYRgi_LFzq8",
        "outputId": "3ffec3ed-0d0e-41db-8721-f99e3d1a6919"
      },
      "source": [
        "checkpoint = ModelCheckpoint(model_name, save_best_only=True)\n",
        "early_stop = EarlyStopping(patience=5, restore_best_weights=True)\n",
        "history = model.fit(X_train, y_train, epochs=100, validation_split=0.1, \n",
        "                    callbacks=[checkpoint, early_stop])"
      ],
      "execution_count": null,
      "outputs": [
        {
          "output_type": "stream",
          "text": [
            "Epoch 1/100\n",
            "1565/1565 [==============================] - 174s 108ms/step - loss: 0.7149 - accuracy: 0.7629 - val_loss: 0.5520 - val_accuracy: 0.8121\n",
            "Epoch 2/100\n",
            "1565/1565 [==============================] - 167s 106ms/step - loss: 0.4765 - accuracy: 0.8408 - val_loss: 0.4413 - val_accuracy: 0.8574\n",
            "Epoch 3/100\n",
            "1565/1565 [==============================] - 167s 107ms/step - loss: 0.4066 - accuracy: 0.8658 - val_loss: 0.4091 - val_accuracy: 0.8698\n",
            "Epoch 4/100\n",
            "1565/1565 [==============================] - 166s 106ms/step - loss: 0.3735 - accuracy: 0.8745 - val_loss: 0.3772 - val_accuracy: 0.8750\n",
            "Epoch 5/100\n",
            "1565/1565 [==============================] - 167s 106ms/step - loss: 0.3630 - accuracy: 0.8788 - val_loss: 0.3561 - val_accuracy: 0.8828\n",
            "Epoch 6/100\n",
            "1565/1565 [==============================] - 168s 108ms/step - loss: 0.3301 - accuracy: 0.8875 - val_loss: 0.3147 - val_accuracy: 0.8961\n",
            "Epoch 7/100\n",
            "1565/1565 [==============================] - 169s 108ms/step - loss: 0.3125 - accuracy: 0.8919 - val_loss: 0.3235 - val_accuracy: 0.8898\n",
            "Epoch 8/100\n",
            "1565/1565 [==============================] - 168s 107ms/step - loss: 0.3037 - accuracy: 0.8953 - val_loss: 0.2942 - val_accuracy: 0.9038\n",
            "Epoch 9/100\n",
            "1565/1565 [==============================] - 167s 107ms/step - loss: 0.2932 - accuracy: 0.8980 - val_loss: 0.3084 - val_accuracy: 0.8957\n",
            "Epoch 10/100\n",
            "1565/1565 [==============================] - 169s 108ms/step - loss: 0.2843 - accuracy: 0.9012 - val_loss: 0.2989 - val_accuracy: 0.8975\n",
            "Epoch 11/100\n",
            "1565/1565 [==============================] - 168s 107ms/step - loss: 0.2693 - accuracy: 0.9059 - val_loss: 0.2607 - val_accuracy: 0.9115\n",
            "Epoch 12/100\n",
            "1565/1565 [==============================] - 166s 106ms/step - loss: 0.2608 - accuracy: 0.9083 - val_loss: 0.3068 - val_accuracy: 0.8919\n",
            "Epoch 13/100\n",
            "1565/1565 [==============================] - 167s 106ms/step - loss: 0.2575 - accuracy: 0.9097 - val_loss: 0.2579 - val_accuracy: 0.9087\n",
            "Epoch 14/100\n",
            "1565/1565 [==============================] - 166s 106ms/step - loss: 0.2486 - accuracy: 0.9124 - val_loss: 0.2515 - val_accuracy: 0.9155\n",
            "Epoch 15/100\n",
            "1565/1565 [==============================] - 166s 106ms/step - loss: 0.2412 - accuracy: 0.9159 - val_loss: 0.2523 - val_accuracy: 0.9115\n",
            "Epoch 16/100\n",
            "1565/1565 [==============================] - 166s 106ms/step - loss: 0.2355 - accuracy: 0.9176 - val_loss: 0.2522 - val_accuracy: 0.9128\n",
            "Epoch 17/100\n",
            "1565/1565 [==============================] - 166s 106ms/step - loss: 0.2321 - accuracy: 0.9182 - val_loss: 0.2461 - val_accuracy: 0.9106\n",
            "Epoch 18/100\n",
            "1565/1565 [==============================] - 167s 107ms/step - loss: 0.2268 - accuracy: 0.9215 - val_loss: 0.2363 - val_accuracy: 0.9205\n",
            "Epoch 19/100\n",
            "1565/1565 [==============================] - 166s 106ms/step - loss: 0.2216 - accuracy: 0.9228 - val_loss: 0.2445 - val_accuracy: 0.9159\n",
            "Epoch 20/100\n",
            "1565/1565 [==============================] - 166s 106ms/step - loss: 0.2174 - accuracy: 0.9243 - val_loss: 0.2285 - val_accuracy: 0.9205\n",
            "Epoch 21/100\n",
            "1565/1565 [==============================] - 167s 106ms/step - loss: 0.2139 - accuracy: 0.9257 - val_loss: 0.2355 - val_accuracy: 0.9160\n",
            "Epoch 22/100\n",
            "1565/1565 [==============================] - 167s 107ms/step - loss: 0.2090 - accuracy: 0.9258 - val_loss: 0.2294 - val_accuracy: 0.9204\n",
            "Epoch 23/100\n",
            "1565/1565 [==============================] - 167s 107ms/step - loss: 0.2074 - accuracy: 0.9273 - val_loss: 0.2270 - val_accuracy: 0.9225\n",
            "Epoch 24/100\n",
            "1565/1565 [==============================] - 167s 107ms/step - loss: 0.2032 - accuracy: 0.9282 - val_loss: 0.2310 - val_accuracy: 0.9195\n",
            "Epoch 25/100\n",
            "1565/1565 [==============================] - 168s 107ms/step - loss: 0.2006 - accuracy: 0.9291 - val_loss: 0.2163 - val_accuracy: 0.9234\n",
            "Epoch 26/100\n",
            "1565/1565 [==============================] - 169s 108ms/step - loss: 0.1952 - accuracy: 0.9314 - val_loss: 0.2164 - val_accuracy: 0.9259\n",
            "Epoch 27/100\n",
            "1565/1565 [==============================] - 168s 107ms/step - loss: 0.1955 - accuracy: 0.9323 - val_loss: 0.2123 - val_accuracy: 0.9252\n",
            "Epoch 28/100\n",
            "1565/1565 [==============================] - 167s 107ms/step - loss: 0.1912 - accuracy: 0.9322 - val_loss: 0.2249 - val_accuracy: 0.9218\n",
            "Epoch 29/100\n",
            "1565/1565 [==============================] - 166s 106ms/step - loss: 0.1879 - accuracy: 0.9335 - val_loss: 0.2161 - val_accuracy: 0.9252\n",
            "Epoch 30/100\n",
            "1565/1565 [==============================] - 167s 107ms/step - loss: 0.1888 - accuracy: 0.9343 - val_loss: 0.2554 - val_accuracy: 0.9169\n",
            "Epoch 31/100\n",
            "1565/1565 [==============================] - 167s 106ms/step - loss: 0.1832 - accuracy: 0.9354 - val_loss: 0.2175 - val_accuracy: 0.9266\n",
            "Epoch 32/100\n",
            "1565/1565 [==============================] - 168s 108ms/step - loss: 0.1803 - accuracy: 0.9365 - val_loss: 0.2075 - val_accuracy: 0.9284\n",
            "Epoch 33/100\n",
            "1565/1565 [==============================] - 169s 108ms/step - loss: 0.1803 - accuracy: 0.9360 - val_loss: 0.2192 - val_accuracy: 0.9254\n",
            "Epoch 34/100\n",
            "1565/1565 [==============================] - 169s 108ms/step - loss: 0.1777 - accuracy: 0.9384 - val_loss: 0.2092 - val_accuracy: 0.9268\n",
            "Epoch 35/100\n",
            "1565/1565 [==============================] - 169s 108ms/step - loss: 0.1730 - accuracy: 0.9386 - val_loss: 0.2178 - val_accuracy: 0.9247\n",
            "Epoch 36/100\n",
            "1565/1565 [==============================] - 171s 110ms/step - loss: 0.1734 - accuracy: 0.9383 - val_loss: 0.2153 - val_accuracy: 0.9272\n",
            "Epoch 37/100\n",
            "1565/1565 [==============================] - 171s 110ms/step - loss: 0.1697 - accuracy: 0.9393 - val_loss: 0.2036 - val_accuracy: 0.9308\n",
            "Epoch 38/100\n",
            "1565/1565 [==============================] - 173s 110ms/step - loss: 0.1700 - accuracy: 0.9391 - val_loss: 0.2076 - val_accuracy: 0.9301\n",
            "Epoch 39/100\n",
            "1565/1565 [==============================] - 171s 109ms/step - loss: 0.1664 - accuracy: 0.9403 - val_loss: 0.2033 - val_accuracy: 0.9319\n",
            "Epoch 40/100\n",
            "1565/1565 [==============================] - 174s 111ms/step - loss: 0.1639 - accuracy: 0.9406 - val_loss: 0.2019 - val_accuracy: 0.9335\n",
            "Epoch 41/100\n",
            "1565/1565 [==============================] - 171s 109ms/step - loss: 0.1642 - accuracy: 0.9408 - val_loss: 0.2028 - val_accuracy: 0.9313\n",
            "Epoch 42/100\n",
            "1565/1565 [==============================] - 171s 109ms/step - loss: 0.1604 - accuracy: 0.9421 - val_loss: 0.2086 - val_accuracy: 0.9301\n",
            "Epoch 43/100\n",
            "1565/1565 [==============================] - 172s 110ms/step - loss: 0.1602 - accuracy: 0.9431 - val_loss: 0.2415 - val_accuracy: 0.9205\n",
            "Epoch 44/100\n",
            "1565/1565 [==============================] - 170s 109ms/step - loss: 0.1562 - accuracy: 0.9430 - val_loss: 0.2105 - val_accuracy: 0.9299\n",
            "Epoch 45/100\n",
            "1565/1565 [==============================] - 171s 109ms/step - loss: 0.1606 - accuracy: 0.9431 - val_loss: 0.2015 - val_accuracy: 0.9315\n",
            "Epoch 46/100\n",
            "1565/1565 [==============================] - 172s 110ms/step - loss: 0.1528 - accuracy: 0.9450 - val_loss: 0.2045 - val_accuracy: 0.9311\n",
            "Epoch 47/100\n",
            "1565/1565 [==============================] - 171s 109ms/step - loss: 0.1554 - accuracy: 0.9446 - val_loss: 0.1979 - val_accuracy: 0.9337\n",
            "Epoch 48/100\n",
            "1565/1565 [==============================] - 171s 109ms/step - loss: 0.1492 - accuracy: 0.9462 - val_loss: 0.2031 - val_accuracy: 0.9310\n",
            "Epoch 49/100\n",
            "1565/1565 [==============================] - 170s 109ms/step - loss: 0.1494 - accuracy: 0.9456 - val_loss: 0.2113 - val_accuracy: 0.9306\n",
            "Epoch 50/100\n",
            "1565/1565 [==============================] - 172s 110ms/step - loss: 0.1503 - accuracy: 0.9463 - val_loss: 0.2045 - val_accuracy: 0.9335\n",
            "Epoch 51/100\n",
            "1565/1565 [==============================] - 170s 109ms/step - loss: 0.1441 - accuracy: 0.9471 - val_loss: 0.2231 - val_accuracy: 0.9281\n",
            "Epoch 52/100\n",
            "1565/1565 [==============================] - 171s 109ms/step - loss: 0.1424 - accuracy: 0.9485 - val_loss: 0.2020 - val_accuracy: 0.9353\n"
          ],
          "name": "stdout"
        }
      ]
    },
    {
      "cell_type": "markdown",
      "metadata": {
        "id": "t1uaq2xnv2Zr"
      },
      "source": [
        "Accuracy: 93/91, 0.19/0.23"
      ]
    },
    {
      "cell_type": "markdown",
      "metadata": {
        "id": "jjqO8rmN32t-"
      },
      "source": [
        "# Model Loss and Accuracy"
      ]
    },
    {
      "cell_type": "code",
      "metadata": {
        "id": "gXiP5rbZNXkO"
      },
      "source": [
        "def plot_stats(history, epochs):\n",
        "    acc = history.history['accuracy']\n",
        "    val_acc = history.history['val_accuracy']\n",
        "\n",
        "    loss = history.history['loss']\n",
        "    val_loss = history.history['val_loss']\n",
        "\n",
        "    epochs_range = range(epochs)\n",
        "\n",
        "    plt.figure(figsize=(8, 8))\n",
        "    plt.subplot(1, 2, 1)\n",
        "    plt.plot(epochs_range, acc, label='Training Accuracy')\n",
        "    plt.plot(epochs_range, val_acc, label='Validation Accuracy')\n",
        "    plt.legend(loc='lower right')\n",
        "    plt.title('Training and Validation Accuracy')\n",
        "\n",
        "    plt.subplot(1, 2, 2)\n",
        "    plt.plot(epochs_range, loss, label='Training Loss')\n",
        "    plt.plot(epochs_range, val_loss, label='Validation Loss')\n",
        "    plt.legend(loc='upper right')\n",
        "    plt.title('Training and Validation Loss')\n",
        "    plt.show()"
      ],
      "execution_count": null,
      "outputs": []
    },
    {
      "cell_type": "code",
      "metadata": {
        "id": "TbqNJLdeNWs7",
        "colab": {
          "base_uri": "https://localhost:8080/",
          "height": 533
        },
        "outputId": "4ce12805-0fcd-4a26-ef34-532e9b983210"
      },
      "source": [
        "# rollback to the best model\n",
        "plot_stats(history, early_stop.stopped_epoch+1)\n",
        "model = keras.models.load_model(model_name)\n",
        "loss, acc = model.evaluate(X_test, y_test)\n",
        "print(\"Test Accuracy: %.3f\" % acc)"
      ],
      "execution_count": null,
      "outputs": [
        {
          "output_type": "display_data",
          "data": {
            "image/png": "[encoded data removed]",
            "text/plain": [
              "<Figure size 576x576 with 2 Axes>"
            ]
          },
          "metadata": {
            "tags": [],
            "needs_background": "light"
          }
        },
        {
          "output_type": "stream",
          "text": [
            "435/435 [==============================] - 26s 23ms/step - loss: 0.2040 - accuracy: 0.9307\n",
            "Test Accuracy: 0.931\n"
          ],
          "name": "stdout"
        }
      ]
    },
    {
      "cell_type": "markdown",
      "metadata": {
        "id": "jFumRA2DhmQb"
      },
      "source": [
        "Test accuracy: 0.92"
      ]
    },
    {
      "cell_type": "markdown",
      "metadata": {
        "id": "z3tFInQSpebY"
      },
      "source": [
        "# Confusion Matrix"
      ]
    },
    {
      "cell_type": "code",
      "metadata": {
        "id": "bVDfglVOpodH",
        "colab": {
          "base_uri": "https://localhost:8080/",
          "height": 500
        },
        "outputId": "bfd4798b-38bd-4a5d-a6d9-63f8703eca9a"
      },
      "source": [
        "y_pred = np.argmax(model.predict(X_test), axis=-1)\n",
        "mat = confusion_matrix(y_test, y_pred)\n",
        "plot_confusion_matrix(conf_mat=mat, class_names=classes, show_normed=True, figsize=(7,7))"
      ],
      "execution_count": null,
      "outputs": [
        {
          "output_type": "execute_result",
          "data": {
            "text/plain": [
              "(<Figure size 504x504 with 1 Axes>,\n",
              " <matplotlib.axes._subplots.AxesSubplot at 0x7ff5690313d0>)"
            ]
          },
          "metadata": {
            "tags": []
          },
          "execution_count": 11
        },
        {
          "output_type": "display_data",
          "data": {
            "image/png": "[encoded data removed]",
            "text/plain": [
              "<Figure size 504x504 with 1 Axes>"
            ]
          },
          "metadata": {
            "tags": [],
            "needs_background": "light"
          }
        }
      ]
    },
    {
      "cell_type": "markdown",
      "metadata": {
        "id": "zJ0Gvbjbi5kV"
      },
      "source": [
        "# Save the Model"
      ]
    },
    {
      "cell_type": "code",
      "metadata": {
        "id": "uQyyoCNZps9d"
      },
      "source": [
        "model.save(f'/content/drive/MyDrive/Smart Dog Collar/Models/{model_name}')"
      ],
      "execution_count": null,
      "outputs": []
    }
  ]
}